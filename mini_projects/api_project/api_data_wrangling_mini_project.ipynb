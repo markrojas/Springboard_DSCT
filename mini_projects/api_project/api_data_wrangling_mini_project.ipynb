{
 "cells": [
  {
   "cell_type": "markdown",
   "metadata": {},
   "source": [
    "This exercise will require you to pull some data from the Qunadl API. Qaundl is currently the most widely used aggregator of financial market data."
   ]
  },
  {
   "cell_type": "markdown",
   "metadata": {},
   "source": [
    "As a first step, you will need to register a free account on the http://www.quandl.com website."
   ]
  },
  {
   "cell_type": "markdown",
   "metadata": {},
   "source": [
    "After you register, you will be provided with a unique API key, that you should store:"
   ]
  },
  {
   "cell_type": "code",
   "execution_count": 1,
   "metadata": {},
   "outputs": [],
   "source": [
    "# stored API key in a file called 'apikey',\n",
    "# not provided in GitHub\n",
    "filename = 'apikey'"
   ]
  },
  {
   "cell_type": "code",
   "execution_count": 2,
   "metadata": {},
   "outputs": [],
   "source": [
    "# define function to parse API Key from file\n",
    "# and return it to be stored as string\n",
    "def get_file_contents(filename):\n",
    "    \"\"\" Given a filename, return the contents of that file\"\"\"\n",
    "    try:\n",
    "        with open(filename, 'r') as f:\n",
    "            # specific file contains a single line, with API key\n",
    "            return f.read().strip()\n",
    "    except FileNotFoundError:\n",
    "        print(\"'%s' file not found\" % filename)"
   ]
  },
  {
   "cell_type": "code",
   "execution_count": 3,
   "metadata": {},
   "outputs": [],
   "source": [
    "# store the API key as a string - according to PEP8, constants are always named in all upper case\n",
    "API_KEY = get_file_contents(filename)"
   ]
  },
  {
   "cell_type": "markdown",
   "metadata": {},
   "source": [
    "Qaundl has a large number of data sources, but, unfortunately, most of them require a Premium subscription. Still, there are also a good number of free datasets."
   ]
  },
  {
   "cell_type": "markdown",
   "metadata": {},
   "source": [
    "For this mini project, we will focus on equities data from the Frankfurt Stock Exhange (FSE), which is available for free. We'll try and analyze the stock prices of a company called Carl Zeiss Meditec, which manufactures tools for eye examinations, as well as medical lasers for laser eye surgery: https://www.zeiss.com/meditec/int/home.html. The company is listed under the stock ticker AFX_X."
   ]
  },
  {
   "cell_type": "markdown",
   "metadata": {},
   "source": [
    "You can find the detailed Quandl API instructions here: https://docs.quandl.com/docs/time-series"
   ]
  },
  {
   "cell_type": "markdown",
   "metadata": {},
   "source": [
    "While there is a dedicated Python package for connecting to the Quandl API, we would prefer that you use the *requests* package, which can be easily downloaded using *pip* or *conda*. You can find the documentation for the package here: http://docs.python-requests.org/en/master/ "
   ]
  },
  {
   "cell_type": "markdown",
   "metadata": {},
   "source": [
    "Finally, apart from the *requests* package, you are encouraged to not use any third party Python packages, such as *pandas*, and instead focus on what's available in the Python Standard Library (the *collections* module might come in handy: https://pymotw.com/3/collections/).\n",
    "Also, since you won't have access to DataFrames, you are encouraged to us Python's native data structures - preferably dictionaries, though some questions can also be answered using lists.\n",
    "You can read more on these data structures here: https://docs.python.org/3/tutorial/datastructures.html"
   ]
  },
  {
   "cell_type": "markdown",
   "metadata": {},
   "source": [
    "Keep in mind that the JSON responses you will be getting from the API map almost one-to-one to Python's dictionaries. Unfortunately, they can be very nested, so make sure you read up on indexing dictionaries in the documentation provided above."
   ]
  },
  {
   "cell_type": "code",
   "execution_count": 4,
   "metadata": {},
   "outputs": [],
   "source": [
    "# first, import the relevant modules\n",
    "#import collections\n",
    "import requests\n",
    "import json"
   ]
  },
  {
   "cell_type": "code",
   "execution_count": 5,
   "metadata": {},
   "outputs": [],
   "source": [
    "# now, call the Quandl API and pull out a small sample of the data (only one day) to get a glimpse\n",
    "# into the JSON structure that will be returned\n",
    "r1 = requests.get(\"https://API_KEY@www.quandl.com/api/v3/datasets/FSE/AFX_X.json?start_date=2018-08-23&end_date=2018-08-23\")"
   ]
  },
  {
   "cell_type": "code",
   "execution_count": 6,
   "metadata": {},
   "outputs": [
    {
     "data": {
      "text/plain": [
       "{'dataset': {'id': 10095370,\n",
       "  'dataset_code': 'AFX_X',\n",
       "  'database_code': 'FSE',\n",
       "  'name': 'Carl Zeiss Meditec (AFX_X)',\n",
       "  'description': 'Stock Prices for Carl Zeiss Meditec (AFX) from the Frankfurt Stock Exchange.<br><br>Trading System: Xetra<br><br>ISIN: DE0005313704',\n",
       "  'refreshed_at': '2018-08-24T22:28:36.883Z',\n",
       "  'newest_available_date': '2018-08-24',\n",
       "  'oldest_available_date': '2000-06-07',\n",
       "  'column_names': ['Date',\n",
       "   'Open',\n",
       "   'High',\n",
       "   'Low',\n",
       "   'Close',\n",
       "   'Change',\n",
       "   'Traded Volume',\n",
       "   'Turnover',\n",
       "   'Last Price of the Day',\n",
       "   'Daily Traded Units',\n",
       "   'Daily Turnover'],\n",
       "  'frequency': 'daily',\n",
       "  'type': 'Time Series',\n",
       "  'premium': False,\n",
       "  'limit': None,\n",
       "  'transform': None,\n",
       "  'column_index': None,\n",
       "  'start_date': '2018-08-23',\n",
       "  'end_date': '2018-08-23',\n",
       "  'data': [['2018-08-23',\n",
       "    None,\n",
       "    75.55,\n",
       "    73.85,\n",
       "    74.6,\n",
       "    None,\n",
       "    77293.0,\n",
       "    5775269.0,\n",
       "    None,\n",
       "    None,\n",
       "    None]],\n",
       "  'collapse': None,\n",
       "  'order': None,\n",
       "  'database_id': 6129}}"
      ]
     },
     "execution_count": 6,
     "metadata": {},
     "output_type": "execute_result"
    }
   ],
   "source": [
    "# inspect the JSON structure of the object you created, and take note of how nested it is,\n",
    "# as well as the overall structure\n",
    "r1.json()"
   ]
  },
  {
   "cell_type": "markdown",
   "metadata": {},
   "source": [
    "These are your tasks for this mini project:\n",
    "\n",
    "1. Collect data from the Franfurt Stock Exchange, for the ticker AFX_X, for the whole year 2017 (keep in mind that the date format is YYYY-MM-DD).\n",
    "2. Convert the returned JSON object into a Python dictionary.\n",
    "3. Calculate what the highest and lowest opening prices were for the stock in this period.\n",
    "4. What was the largest change in any one day (based on High and Low price)?\n",
    "5. What was the largest change between any two days (based on Closing Price)?\n",
    "6. What was the average daily trading volume during this year?\n",
    "7. (Optional) What was the median trading volume during this year. (Note: you may need to implement your own function for calculating the median.)\n",
    "***"
   ]
  },
  {
   "cell_type": "markdown",
   "metadata": {},
   "source": [
    "### 1. Collect data from the Franfurt Stock Exchange, for the ticker AFX_X, for the whole year 2017."
   ]
  },
  {
   "cell_type": "code",
   "execution_count": 7,
   "metadata": {},
   "outputs": [],
   "source": [
    "# use .get(url) to request data from Quandl repository and store as Response\n",
    "# provide API_KEY to access data\n",
    "# specify {database_code} = FSE and {dataset_code} = AFX_X\n",
    "# provide start/end dates to get data for 2017\n",
    "r1 = requests.get(\"https://API_KEY@www.quandl.com/api/v3/datasets/FSE/AFX_X.json?start_date=2017-01-01&end_date=2017-12-31\")"
   ]
  },
  {
   "cell_type": "markdown",
   "metadata": {},
   "source": [
    "***\n",
    "### 2. Convert the returned JSON object into a Python dictionary."
   ]
  },
  {
   "cell_type": "code",
   "execution_count": 8,
   "metadata": {},
   "outputs": [
    {
     "data": {
      "text/plain": [
       "dict"
      ]
     },
     "execution_count": 8,
     "metadata": {},
     "output_type": "execute_result"
    }
   ],
   "source": [
    "# use .json() method to convert Response to Python dictionary\n",
    "# display data type\n",
    "json_dict = r1.json()\n",
    "type(json_dict)"
   ]
  },
  {
   "cell_type": "markdown",
   "metadata": {},
   "source": [
    "***\n",
    "#### For the remaining questions in this project, I only plan to use the values associated with the `'data'` key from the time-series data set.\n",
    "\n",
    "Example:\n",
    "```python \n",
    "'data': [['2018-08-23', None, 75.55, 73.85, 74.6, None, 77293.0, 5775269.0, None, None, None]]\n",
    "```\n",
    "The values correspond to the following column names:\n",
    "```python\n",
    "['Date','Open','High','Low','Close','Change','Traded Volume','Turnover',\n",
    " 'Last Price of the Day','Daily Traded Units','Daily Turnover']\n",
    "```\n",
    "*Some values contain* **`None`**'*s and will be addressed by excluding them from calculations.*"
   ]
  },
  {
   "cell_type": "code",
   "execution_count": 9,
   "metadata": {},
   "outputs": [],
   "source": [
    "# parse only the values for 'data' from dictionary and store in list\n",
    "vals = json_dict['dataset']['data']\n",
    "\n",
    "# temporary lists \n",
    "k = []  # to store date's to be used as unique keys\n",
    "v = []  # to store remaining 'data' values corresponding to date\n",
    "\n",
    "# loop through 'data' values separating 'Date' from 'Open', 'High', etc.\n",
    "for val in vals:\n",
    "    k.append(val[0])\n",
    "    v.append(val[1:])\n",
    "\n",
    "# use zip() to create more specific 'data' dictionary\n",
    "# with date's as unique keys\n",
    "data_dict = dict(zip(k, v))"
   ]
  },
  {
   "cell_type": "markdown",
   "metadata": {},
   "source": [
    "***\n",
    "### 3. Calculate what the highest and lowest opening prices were for the stock in this period."
   ]
  },
  {
   "cell_type": "code",
   "execution_count": 10,
   "metadata": {},
   "outputs": [
    {
     "name": "stdout",
     "output_type": "stream",
     "text": [
      "Highest opening price was 53.11 on 2017-12-14.\n",
      "Lowest opening price was 34.0 on 2017-01-24.\n"
     ]
    }
   ],
   "source": [
    "# temporary dictionary to store only {date:open prices}\n",
    "open_prices = {}\n",
    "\n",
    "# loop through data dictionary keys \n",
    "# to grab only date and open prices\n",
    "# and create a new dictionary\n",
    "for k in data_dict.keys():\n",
    "    if data_dict[k][0] != None:  # exclude key:value pairs when open price = None\n",
    "        open_prices[k]=data_dict[k][0]  # using index 0 for 'Open'\n",
    "\n",
    "# call max() and min() functions on dictionary comprehensions\n",
    "# that iterate through the key:value pairs and store in tuple\n",
    "max_open_tup = max({(v,k) for (k,v) in open_prices.items()})\n",
    "min_open_tup = min({(v,k) for (k,v) in open_prices.items()})\n",
    "\n",
    "# output results\n",
    "print(\"Highest opening price was {} on {}.\".format(max_open_tup[0], max_open_tup[1]))\n",
    "print(\"Lowest opening price was {} on {}.\".format(min_open_tup[0], min_open_tup[1]))"
   ]
  },
  {
   "cell_type": "markdown",
   "metadata": {},
   "source": [
    "***\n",
    "**Alternate approaches to Question 3**"
   ]
  },
  {
   "cell_type": "code",
   "execution_count": 11,
   "metadata": {},
   "outputs": [
    {
     "name": "stdout",
     "output_type": "stream",
     "text": [
      "53.11\n",
      "34.0\n"
     ]
    }
   ],
   "source": [
    "# alternate approach could be to use max() and min() functions\n",
    "# and include lambda function using the key= parameter\n",
    "# which in this case will only get the value, not date\n",
    "open_max = max(open_prices.keys(), key=(lambda k: open_prices[k]))\n",
    "open_min = min(open_prices.keys(), key=(lambda k: open_prices[k]))\n",
    "print(open_prices[open_max])\n",
    "print(open_prices[open_min])"
   ]
  },
  {
   "cell_type": "code",
   "execution_count": 12,
   "metadata": {},
   "outputs": [
    {
     "name": "stdout",
     "output_type": "stream",
     "text": [
      "Highest opening price was 53.11 and Lowest opening price was 34.0.\n"
     ]
    }
   ],
   "source": [
    "# another alternate approach could be to use a list and call \n",
    "# the max() and min() functions on the list but in this case\n",
    "# I did not include date\n",
    "open_prices = []\n",
    "\n",
    "for v in data_dict.values():\n",
    "    if v[0] != None :\n",
    "        open_prices.append(v[0])\n",
    "\n",
    "max_open = max(open_prices)\n",
    "min_open = min(open_prices)\n",
    "\n",
    "print(\"Highest opening price was {} and Lowest opening price was {}.\".format(max_open, min_open))"
   ]
  },
  {
   "cell_type": "markdown",
   "metadata": {},
   "source": [
    "***\n",
    "### 4. What was the largest change in any one day (based on High and Low price)?"
   ]
  },
  {
   "cell_type": "code",
   "execution_count": 13,
   "metadata": {},
   "outputs": [
    {
     "name": "stdout",
     "output_type": "stream",
     "text": [
      "Largest change (based on High/Low prices) was 2.8100000000000023 on 2017-05-11.\n"
     ]
    }
   ],
   "source": [
    "# temporary dictionary to store only {date:diff} \n",
    "# where diff = high-low for given date\n",
    "# not using 'Change'\n",
    "price_diff = {}\n",
    "\n",
    "# loop through data dictionary keys to \n",
    "# grab only date and high and low prices\n",
    "# and create a new dictionary\n",
    "for k in data_dict.keys():\n",
    "    if (data_dict[k][1] != None) & (data_dict[k][2] != None):  # exclude key:value pairs when None\n",
    "        # calculate price change\n",
    "        price_diff[k]=data_dict[k][1]-data_dict[k][2]  # using indices 1 for 'High' and 2 for 'Low'\n",
    "\n",
    "# call max() function on dictionary comprehension that \n",
    "# iterates through the key:value pairs and store in tuple\n",
    "max_diff_tup = max({(v,k) for (k,v) in price_diff.items()})\n",
    "\n",
    "# output results\n",
    "print(\"Largest change (based on High/Low prices) was {} on {}.\".format(max_diff_tup[0], max_diff_tup[1]))"
   ]
  },
  {
   "cell_type": "markdown",
   "metadata": {},
   "source": [
    "***\n",
    "**Alternate approaches to Question 4**"
   ]
  },
  {
   "cell_type": "code",
   "execution_count": 14,
   "metadata": {},
   "outputs": [
    {
     "name": "stdout",
     "output_type": "stream",
     "text": [
      "Largest change (based on High/Low prices) in any one day was 2.8100000000000023.\n"
     ]
    }
   ],
   "source": [
    "# alternate approach could be to use a list and call \n",
    "# the max() function on the list but in this case\n",
    "# I did not include date\n",
    "price_diff = []\n",
    "\n",
    "for v in data_dict.values():\n",
    "    if (v[1] != None) & (v[2] != None):\n",
    "        price_diff.append(v[1]-v[2])\n",
    "\n",
    "max_diff = max(price_diff)\n",
    "\n",
    "print(\"Largest change (based on High/Low prices) in any one day was {}.\".format(max_diff))"
   ]
  },
  {
   "cell_type": "markdown",
   "metadata": {},
   "source": [
    "***\n",
    "### 5. What was the largest change between any two days (based on Closing Price)?"
   ]
  },
  {
   "cell_type": "code",
   "execution_count": 15,
   "metadata": {},
   "outputs": [
    {
     "name": "stdout",
     "output_type": "stream",
     "text": [
      "(Based on Closing prices)\n",
      "The larget change between any two days was between\n",
      "a MAX CLOSING PRICE of 53.09 on 2017-12-13\n",
      "and MIN CLOSING PRICE of 34.06 on 2017-01-23\n",
      "for a TOTAL CHANGE of 19.03.\n"
     ]
    }
   ],
   "source": [
    "# temporary dictionary to store only {date:diff} \n",
    "# where diff = high-low for given date\n",
    "close_prices = {}\n",
    "\n",
    "# loop through data dictionary keys to \n",
    "# grab only date and high and low prices\n",
    "# and create a new dictionary\n",
    "for k in data_dict.keys():\n",
    "    if data_dict[k][3] != None:  # exclude key:value pairs when None\n",
    "        # calculate price change\n",
    "        close_prices[k]=data_dict[k][3]  # using index 3 for 'Close'\n",
    "\n",
    "# call max() function on dictionary comprehension that \n",
    "# iterates through the key:value pairs and store in tuple\n",
    "max_close_tup = max({(v,k) for (k,v) in close_prices.items()})\n",
    "min_close_tup = min({(v,k) for (k,v) in close_prices.items()})\n",
    "max_diff = max_close_tup[0]-min_close_tup[0]\n",
    "\n",
    "# output results\n",
    "print(\"(Based on Closing prices)\")\n",
    "print(\"The larget change between any two days was between\")\n",
    "print(\"a MAX CLOSING PRICE of {} on {}\".format(max_close_tup[0], max_close_tup[1]))\n",
    "print(\"and MIN CLOSING PRICE of {} on {}\".format(min_close_tup[0], min_close_tup[1]))\n",
    "print(\"for a TOTAL CHANGE of {}.\".format(max_diff))"
   ]
  },
  {
   "cell_type": "markdown",
   "metadata": {},
   "source": [
    "***\n",
    "**Alternate approaches to Question 5**"
   ]
  },
  {
   "cell_type": "code",
   "execution_count": 16,
   "metadata": {},
   "outputs": [
    {
     "name": "stdout",
     "output_type": "stream",
     "text": [
      "Largest change (based on Closing prices) between any two days was 19.03.\n"
     ]
    }
   ],
   "source": [
    "# alternate approach could be to use a list and call \n",
    "# the max() and min() functions on the list but in this case\n",
    "# I did not include any dates \n",
    "close_prices = []\n",
    "\n",
    "for v in data_dict.values():\n",
    "    if v[3] != None :\n",
    "        close_prices.append(v[3])\n",
    "\n",
    "max_diff = max(close_prices) - min(close_prices)\n",
    "\n",
    "print(\"Largest change (based on Closing prices) between any two days was {}.\".format(max_diff))"
   ]
  },
  {
   "cell_type": "markdown",
   "metadata": {},
   "source": [
    "***\n",
    "### 6. What was the average daily trading volume during this year?"
   ]
  },
  {
   "cell_type": "code",
   "execution_count": 17,
   "metadata": {},
   "outputs": [
    {
     "name": "stdout",
     "output_type": "stream",
     "text": [
      "Average daily trading volume during 2017 was 89124.33725490196.\n"
     ]
    }
   ],
   "source": [
    "# because only the average for the year is required, \n",
    "# I chose to use a list instead of dictionary\n",
    "\n",
    "# list to store trading volume for year\n",
    "volume = []\n",
    "\n",
    "# loop through data dictionary keys to \n",
    "# grab only trading volumes for the year\n",
    "# and store in list\n",
    "for v in data_dict.values():\n",
    "    if v[5] != None:\n",
    "        volume.append(v[5])  # using index 5 for 'Traded Volume'\n",
    "\n",
    "# calculate average and store as float\n",
    "avg_volume = sum(volume) / len(volume)\n",
    "\n",
    "# output result\n",
    "print(\"Average daily trading volume during 2017 was {}.\".format(avg_volume))"
   ]
  },
  {
   "cell_type": "markdown",
   "metadata": {},
   "source": [
    "***\n",
    "### (Optional) \n",
    "### 7. What was the median trading volume during this year."
   ]
  },
  {
   "cell_type": "code",
   "execution_count": 18,
   "metadata": {},
   "outputs": [
    {
     "name": "stdout",
     "output_type": "stream",
     "text": [
      "Median trading volume during 2017 was 76286.0.\n"
     ]
    }
   ],
   "source": [
    "# using volume list from question 6\n",
    "\n",
    "# define function to calculate the median for given list\n",
    "def get_median(my_list):\n",
    "    \"\"\"calculate the median for non-empty list of numbers;\n",
    "       return the median value as float\"\"\"\n",
    "    # get number of elements in list\n",
    "    length = len(my_list)\n",
    "    \n",
    "    # check if empty list\n",
    "    if length > 0:\n",
    "        # if odd number of elements\n",
    "        if length % 2 != 0:\n",
    "            # sort and return average between two middle values\n",
    "            return sorted(my_list)[int(length/2)]\n",
    "        else:\n",
    "            # sort and return middle value\n",
    "            return sum(sorted(my_list)[int(length/2)-1 : int(length/2)+1])/2\n",
    "    else:\n",
    "        return None\n",
    "\n",
    "# call get_median() function and store value\n",
    "med_volume = get_median(volume)\n",
    "\n",
    "# output result\n",
    "print(\"Median trading volume during 2017 was {}.\".format(med_volume))"
   ]
  },
  {
   "cell_type": "code",
   "execution_count": null,
   "metadata": {},
   "outputs": [],
   "source": []
  }
 ],
 "metadata": {
  "kernelspec": {
   "display_name": "Python 3",
   "language": "python",
   "name": "python3"
  },
  "language_info": {
   "codemirror_mode": {
    "name": "ipython",
    "version": 3
   },
   "file_extension": ".py",
   "mimetype": "text/x-python",
   "name": "python",
   "nbconvert_exporter": "python",
   "pygments_lexer": "ipython3",
   "version": "3.6.6"
  }
 },
 "nbformat": 4,
 "nbformat_minor": 2
}
