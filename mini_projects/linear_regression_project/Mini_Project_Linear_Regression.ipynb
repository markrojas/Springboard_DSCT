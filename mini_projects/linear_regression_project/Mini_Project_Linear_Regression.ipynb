version https://git-lfs.github.com/spec/v1
oid sha256:6eda2c356c0ac970a0a7c17f6c333687254ee1a79bf28ffb2e2ea77d99f7f043
size 906920
