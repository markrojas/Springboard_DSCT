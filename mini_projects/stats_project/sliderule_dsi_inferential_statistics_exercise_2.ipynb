{
 "cells": [
  {
   "cell_type": "markdown",
   "metadata": {},
   "source": [
    "# Examining Racial Discrimination in the US Job Market\n",
    "\n",
    "### Background\n",
    "Racial discrimination continues to be pervasive in cultures throughout the world. Researchers examined the level of racial discrimination in the United States labor market by randomly assigning identical résumés to black-sounding or white-sounding names and observing the impact on requests for interviews from employers.\n",
    "\n",
    "### Data\n",
    "In the dataset provided, each row represents a resume. The 'race' column has two values, 'b' and 'w', indicating black-sounding and white-sounding. The column 'call' has two values, 1 and 0, indicating whether the resume received a call from employers or not.\n",
    "\n",
    "Note that the 'b' and 'w' values in race are assigned randomly to the resumes when presented to the employer."
   ]
  },
  {
   "cell_type": "markdown",
   "metadata": {},
   "source": [
    "### Exercises\n",
    "You will perform a statistical analysis to establish whether race has a significant impact on the rate of callbacks for resumes.\n",
    "\n",
    "Answer the following questions **in this notebook below and submit to your Github account**. \n",
    "\n",
    "   1. What test is appropriate for this problem? Does CLT apply?\n",
    "   2. What are the null and alternate hypotheses?\n",
    "   3. Compute margin of error, confidence interval, and p-value. Try using both the bootstrapping and the frequentist statistical approaches.\n",
    "   4. Write a story describing the statistical significance in the context or the original problem.\n",
    "   5. Does your analysis mean that race/name is the most important factor in callback success? Why or why not? If not, how would you amend your analysis?\n",
    "\n",
    "You can include written notes in notebook cells using Markdown: \n",
    "   - In the control panel at the top, choose Cell > Cell Type > Markdown\n",
    "   - Markdown syntax: http://nestacms.com/docs/creating-content/markdown-cheat-sheet\n",
    "\n",
    "#### Resources\n",
    "+ Experiment information and data source: http://www.povertyactionlab.org/evaluation/discrimination-job-market-united-states\n",
    "+ Scipy statistical methods: http://docs.scipy.org/doc/scipy/reference/stats.html \n",
    "+ Markdown syntax: http://nestacms.com/docs/creating-content/markdown-cheat-sheet\n",
    "+ Formulas for the Bernoulli distribution: https://en.wikipedia.org/wiki/Bernoulli_distribution"
   ]
  },
  {
   "cell_type": "code",
   "execution_count": 1,
   "metadata": {},
   "outputs": [],
   "source": [
    "import pandas as pd\n",
    "import numpy as np\n",
    "from scipy import stats\n",
    "\n",
    "import matplotlib.pyplot as plt\n",
    "import seaborn as sns\n",
    "sns.set()"
   ]
  },
  {
   "cell_type": "code",
   "execution_count": 2,
   "metadata": {},
   "outputs": [],
   "source": [
    "data = pd.io.stata.read_stata('data/us_job_market_discrimination.dta')"
   ]
  },
  {
   "cell_type": "code",
   "execution_count": 3,
   "metadata": {},
   "outputs": [
    {
     "name": "stdout",
     "output_type": "stream",
     "text": [
      "Percent of callbacks for 'black-sounding': 0.401\n",
      "Percent of callbacks for 'white-sounding': 0.599\n"
     ]
    }
   ],
   "source": [
    "# number of callbacks for black-sounding names\n",
    "b_count = sum(data[data.race=='b'].call)\n",
    "# number of callbacks for white-sounding names\n",
    "w_count = sum(data[data.race=='w'].call)\n",
    "sum_count = b_count+w_count\n",
    "print(\"Percent of callbacks for 'black-sounding': {}\".format(round(b_count/sum_count, 3)))\n",
    "print(\"Percent of callbacks for 'white-sounding': {}\".format(round(w_count/sum_count, 3)))"
   ]
  },
  {
   "cell_type": "code",
   "execution_count": 4,
   "metadata": {},
   "outputs": [
    {
     "name": "stdout",
     "output_type": "stream",
     "text": [
      "<class 'pandas.core.frame.DataFrame'>\n",
      "Int64Index: 4870 entries, 0 to 4869\n",
      "Data columns (total 2 columns):\n",
      "race    4870 non-null object\n",
      "call    4870 non-null int8\n",
      "dtypes: int8(1), object(1)\n",
      "memory usage: 80.8+ KB\n"
     ]
    }
   ],
   "source": [
    "calls = data[['race', 'call']].copy()\n",
    "calls['call'] = data.call.astype('int8')\n",
    "calls.info()"
   ]
  },
  {
   "cell_type": "markdown",
   "metadata": {},
   "source": [
    "# Does race has a significant impact on the rate of callbacks for resumes\n",
    "\n",
    "## 1. What test is appropriate for this problem? Does CLT apply?"
   ]
  },
  {
   "cell_type": "markdown",
   "metadata": {
    "collapsed": true
   },
   "source": [
    "<div class=\"span5 alert alert-success\">\n",
    "<p>Answer to Q1:</p>\n",
    "\n",
    "For this study, the sample size is large (<b>4870 observations</b>), clearly greater than 30 samples and we are dealing with two independent groups, <b>'black-sounding'</b> and <b>'white-sounding'</b>. Based on this information, the appropriate test we should use is a <b>Two-Sample</b> test along with the <b><i>z</i>-statistic</b>.\n",
    "\n",
    "In addition, because the sample size <b>n > 30</b>, the <b>Central Limit Theorem (CLT)</b> does in fact apply. Indicating, that as the sample sizes get larger, the distribution of means calculated from repeated sampling will approach normality.\n",
    "</div>"
   ]
  },
  {
   "cell_type": "markdown",
   "metadata": {},
   "source": [
    "## 2. What are the null and alternate hypotheses?"
   ]
  },
  {
   "cell_type": "markdown",
   "metadata": {},
   "source": [
    "<div class=\"span5 alert alert-success\">\n",
    "<p>Answer to Q2:</p>\n",
    "We want to look at the difference of means, such that:<br><br>\n",
    "$H_{0}:$ race does not have a significant impact on the rate of callbacks for resumes.<br>\n",
    "$\\mu_{\\bar{x}_1} - \\mu_{\\bar{x}_2} = 0$ <br><br>\n",
    "$H_{A}:$ race does have a significant impact on the rate of callbacks for resumes.<br>\n",
    "$\\mu_{\\bar{x}_1} - \\mu_{\\bar{x}_2} \\neq 0$ <br>\n",
    "</div>"
   ]
  },
  {
   "cell_type": "markdown",
   "metadata": {},
   "source": [
    "# 3. Compute margin of error, confidence interval, and p-value. \n",
    "\n",
    "## Try using both the bootstrapping and the frequentist statistical approaches."
   ]
  },
  {
   "cell_type": "code",
   "execution_count": 5,
   "metadata": {},
   "outputs": [
    {
     "name": "stdout",
     "output_type": "stream",
     "text": [
      "Mean for 'white-sounding' calls: 0.0965\n",
      "Mean for 'black-sounding' calls: 0.0645\n",
      "Difference of means: 0.032\n"
     ]
    }
   ],
   "source": [
    "w_mean = round(np.mean(calls[calls.race=='w'].call),4)\n",
    "b_mean = round(np.mean(calls[calls.race=='b'].call),4)\n",
    "print(\"Mean for 'white-sounding' calls: {}\".format(w_mean))\n",
    "print(\"Mean for 'black-sounding' calls: {}\".format(b_mean))\n",
    "\n",
    "# compute empirical difference of means\n",
    "diff_means = w_mean - b_mean\n",
    "print(\"Difference of means: {}\".format(diff_means))"
   ]
  },
  {
   "cell_type": "code",
   "execution_count": 6,
   "metadata": {},
   "outputs": [
    {
     "name": "stdout",
     "output_type": "stream",
     "text": [
      "Number of calls for 'white-sounding':\t2435\t 'black-sounding':\t2435\n",
      "Margin of Error: 0.021\n",
      "Z-statistic: 2.919390087122258\n",
      "Confidence interval: [0.011 , 0.053]\n"
     ]
    }
   ],
   "source": [
    "# split calls by 'race'\n",
    "w_calls = calls[calls.race=='w'].call\n",
    "b_calls = calls[calls.race=='b'].call\n",
    "print(\"Number of calls for 'white-sounding':\\t{}\\t 'black-sounding':\\t{}\".format(len(w_calls), len(b_calls)))\n",
    "\n",
    "# first, compute the mean of all calls\n",
    "calls_mean = np.mean(calls['call'].values)\n",
    "\n",
    "# set 95% confidence level\n",
    "cl = 1.96\n",
    "\n",
    "# compute the standard error: se = (σ1 / √n1) + (σ2 / √n2)\n",
    "se = (np.std(w_calls) / np.sqrt(len(w_calls))) + (np.std(b_calls) / np.sqrt(len(b_calls)))\n",
    "\n",
    "# compute margin of error: ME = cf * SE\n",
    "me = round(cl * se, 3)\n",
    "print(\"Margin of Error: {}\".format(me))\n",
    "\n",
    "z_score = diff_means / se\n",
    "print(\"Z-statistic: {}\".format(z_score))\n",
    "\n",
    "# compute the confidence interval\n",
    "ci_min = round(diff_means - me, 3)\n",
    "ci_max = round(diff_means + me, 3)\n",
    "print('Confidence interval: [{} , {}]'.format(ci_min, ci_max))"
   ]
  },
  {
   "cell_type": "code",
   "execution_count": 7,
   "metadata": {},
   "outputs": [],
   "source": [
    "# define same functions from datacamp modules to generate bootstrap replicates\n",
    "def bootstrap_replicate(data, func):\n",
    "    \"\"\"\n",
    "    Generate bootstrap replicate data\n",
    "    \"\"\"\n",
    "    bs_sample = np.random.choice(data, len(data))\n",
    "    return func(bs_sample)\n",
    "\n",
    "def draw_bs_reps(data, func, size=1):\n",
    "    \"\"\"\n",
    "    Draw bootstrap replicates\n",
    "    \"\"\"\n",
    "    # initialize array of replicates\n",
    "    bs_replicates = np.empty(size)\n",
    "    # generate replicates\n",
    "    for i in range(size):\n",
    "        bs_replicates[i] = bootstrap_replicate(data, func)\n",
    "    return bs_replicates"
   ]
  },
  {
   "attachments": {
    "image.png": {
     "image/png": "[encoded data removed]"
    }
   },
   "cell_type": "markdown",
   "metadata": {},
   "source": [
    "Formula for Two-Sample z-test to compare two means:\n",
    "![image.png](attachment:image.png)\n",
    "\n",
    "Where:\n",
    "* $\\bar{x}_1$ = sample 1 mean\n",
    "* $\\bar{x}_2$ = sample 2 mean\n",
    "* Δ = 0 (0 since testing for equal means)\n",
    "* ${σ}_1$ = sample 1 standard deviation\n",
    "* ${σ}_2$ = sample 2 standard deviation\n",
    "* ${n}_1$ = sample 1 size\n",
    "* ${n}_2$ = sample 2 size"
   ]
  },
  {
   "cell_type": "code",
   "execution_count": 8,
   "metadata": {},
   "outputs": [
    {
     "name": "stdout",
     "output_type": "stream",
     "text": [
      "\n",
      "******* Result ********\n",
      "\n",
      "Using Bootstrap Hypothesis Testing on two groups, we compute:\n",
      "\n",
      "p-value = 0.0\n",
      "\n",
      "The p-value (0.0) is <= 0.05, so we can reject the null hypothesis.\n",
      "Thus, we are unable to say that the rate of callbacks for resumes is not impacted by race\n",
      "\n",
      "***********************\n",
      "\n"
     ]
    }
   ],
   "source": [
    "# set random seed\n",
    "np.random.seed(20)\n",
    "\n",
    "# set alpha\n",
    "alpha = 0.05\n",
    "\n",
    "# generate shifted arrays\n",
    "w_shifted_mean = w_calls - np.mean(w_calls) + calls_mean\n",
    "b_shifted_mean = b_calls - np.mean(b_calls) + calls_mean\n",
    "\n",
    "# compute 10,000 bootstrap replicates from shifted arrays\n",
    "w_bs_reps = draw_bs_reps(w_shifted_mean, np.mean, 10000)\n",
    "b_bs_reps = draw_bs_reps(b_shifted_mean, np.mean, 10000)\n",
    "\n",
    "# get replicates of difference of means\n",
    "bs_replicates = w_bs_reps - b_bs_reps\n",
    "\n",
    "# compute the p-value\n",
    "p_val = np.sum(bs_replicates>=diff_means) / len(bs_replicates)\n",
    "\n",
    "print(\"\\n******* Result ********\\n\")\n",
    "print('Using Bootstrap Hypothesis Testing on two groups, we compute:\\n')\n",
    "print('p-value = {}\\n'.format(p_val))\n",
    "\n",
    "if(p_val > alpha): \n",
    "    print('The p-value ({}) is > {}, so we cannot reject the null hypothesis.'.format(p_val, alpha))\n",
    "    print('Thus, we are able to say that the rate of callbacks for resumes is not impacted by race')\n",
    "else:\n",
    "    print('The p-value ({}) is <= {}, so we can reject the null hypothesis.'.format(p_val, alpha))\n",
    "    print('Thus, we are unable to say that the rate of callbacks for resumes is not impacted by race')\n",
    "print(\"\\n***********************\\n\")"
   ]
  },
  {
   "cell_type": "markdown",
   "metadata": {},
   "source": [
    "Frequentist statistical approach: Using **Permutations Test** "
   ]
  },
  {
   "cell_type": "code",
   "execution_count": 9,
   "metadata": {},
   "outputs": [],
   "source": [
    "# define function to compute difference of means\n",
    "def diff_of_means(data_1, data_2):\n",
    "    \"\"\"Difference in means of two arrays.\"\"\"\n",
    "\n",
    "    # the difference of means of data_1, data_2: diff\n",
    "    diff = np.mean(data_1) - np.mean(data_2)\n",
    "\n",
    "    return diff\n",
    "\n",
    "# define function to generate permutation sample from two data sets\n",
    "def permutation_sample(data1, data2):\n",
    "    \"\"\"Generate a permutation sample from two data sets.\"\"\"\n",
    "\n",
    "    # concatenate the data sets: data\n",
    "    data = np.concatenate((data1, data2))\n",
    "\n",
    "    # permute the concatenated array: permuted_data\n",
    "    permuted_data = np.random.permutation(data)\n",
    "\n",
    "    # split the permuted array into two: perm_sample_1, perm_sample_2\n",
    "    perm_sample_1 = permuted_data[:len(data1)]\n",
    "    perm_sample_2 = permuted_data[len(data1):]\n",
    "\n",
    "    return perm_sample_1, perm_sample_2\n",
    "\n",
    "# define function to perform permutation replicates (as used in DataCamp)\n",
    "def draw_perm_reps(data_1, data_2, func, size=1):\n",
    "    \"\"\"Generate multiple permutation replicates.\"\"\"\n",
    "\n",
    "    # initialize array of replicates: perm_replicates\n",
    "    perm_replicates = np.empty(size)\n",
    "\n",
    "    for i in range(size):\n",
    "        # generate permutation sample\n",
    "        perm_sample_1, perm_sample_2 = permutation_sample(data_1, data_2)\n",
    "\n",
    "        # compute the test statistic\n",
    "        perm_replicates[i] = func(perm_sample_1, perm_sample_2)\n",
    "\n",
    "    return perm_replicates"
   ]
  },
  {
   "cell_type": "code",
   "execution_count": 10,
   "metadata": {},
   "outputs": [
    {
     "name": "stdout",
     "output_type": "stream",
     "text": [
      "\n",
      "******* Result ********\n",
      "\n",
      "Using Permutation Test on two samples, we compute:\n",
      "\n",
      "Difference of means: 0.032032854209445585\n",
      "Confidence interval: [-0.01560575  0.01560575]\n",
      "p-value = 0.0\n",
      "\n",
      "The p-value (0.0) is <= 0.05, so we can reject the null hypothesis.\n",
      "Thus, we are unable to say that the rate of callbacks for resumes is not impacted by race\n",
      "\n",
      "***********************\n",
      "\n"
     ]
    }
   ],
   "source": [
    "# compute difference of mean impact force from experiment\n",
    "empirical_diff_means = diff_of_means(w_calls, b_calls)\n",
    "\n",
    "# draw 10,000 permutation replicates\n",
    "perm_replicates = draw_perm_reps(w_calls, b_calls, diff_of_means, size=10000)\n",
    "\n",
    "# compute p-value\n",
    "p_val = np.sum(perm_replicates >= empirical_diff_means) / len(perm_replicates)\n",
    "\n",
    "# compute 95% confidence interval\n",
    "ci = np.percentile(perm_replicates, [2.5, 97.5])\n",
    "\n",
    "print(\"\\n******* Result ********\\n\")\n",
    "print('Using Permutation Test on two samples, we compute:\\n')\n",
    "print('Difference of means: {}'.format(empirical_diff_means))\n",
    "print('Confidence interval:', ci)\n",
    "print('p-value = {}\\n'.format(p_val))\n",
    "\n",
    "if(p_val > alpha): \n",
    "    print('The p-value ({}) is > {}, so we cannot reject the null hypothesis.'.format(p_val, alpha))\n",
    "    print('Thus, we are able to say that the rate of callbacks for resumes is not impacted by race')\n",
    "else:\n",
    "    print('The p-value ({}) is <= {}, so we can reject the null hypothesis.'.format(p_val, alpha))\n",
    "    print('Thus, we are unable to say that the rate of callbacks for resumes is not impacted by race')\n",
    "print(\"\\n***********************\\n\")"
   ]
  },
  {
   "cell_type": "markdown",
   "metadata": {
    "collapsed": true
   },
   "source": [
    "# 4. Write a story describing the statistical significance in the context or the original problem."
   ]
  },
  {
   "cell_type": "markdown",
   "metadata": {},
   "source": [
    "<div class=\"span5 alert alert-success\">\n",
    "<p> Answer to Q4:</p>\n",
    "\n",
    "<p>\n",
    "Racial discrimination continues to be pervasive in cultures throughout the world. Researchers examined the level of racial discrimination in the United States labor market by randomly assigning identical résumés to black-sounding or white-sounding names and observing the impact on requests for interviews from employers. In this study, we are provided a dataset where each row represents a résumé. A 'race' column consisting of two values, 'b' and 'w', indicate a black-sounding and white-sounding name. The column 'call', with two values, 1 and 0, indicate whether the résumé received a callback from employers or not. It is important to note that the 'b' and 'w' values in race column were randomly assigned to the résumés when presented to the employer.\n",
    "\n",
    "When comparing the number of callbacks for 'white-sounding' vs. 'black-sounding' names, we see that 'white-sounding' names receive nearly 60% callbacks, while 'black-sounding' only receive about 40%. Using two separate tests (bootstraping and permutations) to analyze the data, we determined that having a 'black-sounding' name on a résumé negatively impacts the chances of receiving a callback from a prospective employer. \n",
    "</p>\n",
    "</div>"
   ]
  },
  {
   "cell_type": "markdown",
   "metadata": {
    "collapsed": true
   },
   "source": [
    "# 5. Does your analysis mean that race/name is the most important factor in callback success? Why or why not? If not, how would you amend your analysis?"
   ]
  },
  {
   "cell_type": "markdown",
   "metadata": {},
   "source": [
    "<div class=\"span5 alert alert-success\">\n",
    "<p> Answer to Q5:</p>\n",
    "\n",
    "\n",
    "<p>\n",
    "While a 'race-sounding' name on a résumé does appear to have a major impact on callbacks from employers, it is not possible to determine if it is the most important factor in callback success from just these two tests. \n",
    "\n",
    "This is because we would need to consider other factors that may directly or indirectly affect whether an employer calls someone back. \n",
    "\n",
    "It makes sense to perform similar tests using additional observations available in the data set. I would consider taking a look at 'race-sounding' names combined with education, experience, military status, skill sets, and just as importantly, gender. \n",
    "</p>\n",
    "\n",
    "</div>"
   ]
  },
  {
   "cell_type": "code",
   "execution_count": null,
   "metadata": {},
   "outputs": [],
   "source": []
  }
 ],
 "metadata": {
  "kernelspec": {
   "display_name": "Python 3",
   "language": "python",
   "name": "python3"
  },
  "language_info": {
   "codemirror_mode": {
    "name": "ipython",
    "version": 3
   },
   "file_extension": ".py",
   "mimetype": "text/x-python",
   "name": "python",
   "nbconvert_exporter": "python",
   "pygments_lexer": "ipython3",
   "version": "3.7.0"
  }
 },
 "nbformat": 4,
 "nbformat_minor": 1
}
