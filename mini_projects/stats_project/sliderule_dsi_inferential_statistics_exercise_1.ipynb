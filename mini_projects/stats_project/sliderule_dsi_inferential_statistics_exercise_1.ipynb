{
 "cells": [
  {
   "cell_type": "markdown",
   "metadata": {},
   "source": [
    "# What is the True Normal Human Body Temperature? \n",
    "\n",
    "#### Background\n",
    "\n",
    "The mean normal body temperature was held to be 37$^{\\circ}$C or 98.6$^{\\circ}$F for more than 120 years since it was first conceptualized and reported by Carl Wunderlich in a famous 1868 book. But, is this value statistically correct?"
   ]
  },
  {
   "cell_type": "markdown",
   "metadata": {},
   "source": [
    "<h3>Exercises</h3>\n",
    "\n",
    "<p>In this exercise, you will analyze a dataset of human body temperatures and employ the concepts of hypothesis testing, confidence intervals, and statistical significance.</p>\n",
    "\n",
    "<p>Answer the following questions <b>in this notebook below and submit to your Github account</b>.</p> \n",
    "\n",
    "<ol>\n",
    "<li>  Is the distribution of body temperatures normal? \n",
    "    <ul>\n",
    "    <li> Although this is not a requirement for the Central Limit Theorem to hold (read the introduction on Wikipedia's page about the CLT carefully: https://en.wikipedia.org/wiki/Central_limit_theorem), it gives us some peace of mind that the population may also be normally distributed if we assume that this sample is representative of the population.\n",
    "    <li> Think about the way you're going to check for the normality of the distribution. Graphical methods are usually used first, but there are also other ways: https://en.wikipedia.org/wiki/Normality_test\n",
    "    </ul>\n",
    "<li>  Is the sample size large? Are the observations independent?\n",
    "    <ul>\n",
    "    <li> Remember that this is a condition for the Central Limit Theorem, and hence the statistical tests we are using, to apply.\n",
    "    </ul>\n",
    "<li>  Is the true population mean really 98.6 degrees F?\n",
    "    <ul>\n",
    "    <li> First, try a bootstrap hypothesis test.\n",
    "    <li> Now, let's try frequentist statistical testing. Would you use a one-sample or two-sample test? Why?\n",
    "    <li> In this situation, is it appropriate to use the $t$ or $z$ statistic? \n",
    "    <li> Now try using the other test. How is the result be different? Why?\n",
    "    </ul>\n",
    "<li>  Draw a small sample of size 10 from the data and repeat both frequentist tests. \n",
    "    <ul>\n",
    "    <li> Which one is the correct one to use? \n",
    "    <li> What do you notice? What does this tell you about the difference in application of the $t$ and $z$ statistic?\n",
    "    </ul>\n",
    "<li>  At what temperature should we consider someone's temperature to be \"abnormal\"?\n",
    "    <ul>\n",
    "    <li> As in the previous example, try calculating everything using the boostrap approach, as well as the frequentist approach.\n",
    "    <li> Start by computing the margin of error and confidence interval. When calculating the confidence interval, keep in mind that you should use the appropriate formula for one draw, and not N draws.\n",
    "    </ul>\n",
    "<li>  Is there a significant difference between males and females in normal temperature?\n",
    "    <ul>\n",
    "    <li> What testing approach did you use and why?\n",
    "    <li> Write a story with your conclusion in the context of the original problem.\n",
    "    </ul>\n",
    "</ol>\n",
    "\n",
    "You can include written notes in notebook cells using Markdown: \n",
    "   - In the control panel at the top, choose Cell > Cell Type > Markdown\n",
    "   - Markdown syntax: http://nestacms.com/docs/creating-content/markdown-cheat-sheet\n",
    "\n",
    "#### Resources\n",
    "\n",
    "+ Information and data sources: http://www.amstat.org/publications/jse/datasets/normtemp.txt, http://www.amstat.org/publications/jse/jse_data_archive.htm\n",
    "+ Markdown syntax: http://nestacms.com/docs/creating-content/markdown-cheat-sheet\n",
    "\n",
    "****"
   ]
  },
  {
   "cell_type": "code",
   "execution_count": 1,
   "metadata": {},
   "outputs": [],
   "source": [
    "import pandas as pd\n",
    "import numpy as np\n",
    "import matplotlib.pyplot as plt\n",
    "import seaborn as sns  # imported for plot formatting\n",
    "import math\n",
    "\n",
    "import scipy.stats as stats\n",
    "\n",
    "import warnings\n",
    "warnings.filterwarnings('ignore')"
   ]
  },
  {
   "cell_type": "code",
   "execution_count": 2,
   "metadata": {},
   "outputs": [
    {
     "data": {
      "text/html": [
       "<div>\n",
       "<style scoped>\n",
       "    .dataframe tbody tr th:only-of-type {\n",
       "        vertical-align: middle;\n",
       "    }\n",
       "\n",
       "    .dataframe tbody tr th {\n",
       "        vertical-align: top;\n",
       "    }\n",
       "\n",
       "    .dataframe thead th {\n",
       "        text-align: right;\n",
       "    }\n",
       "</style>\n",
       "<table border=\"1\" class=\"dataframe\">\n",
       "  <thead>\n",
       "    <tr style=\"text-align: right;\">\n",
       "      <th></th>\n",
       "      <th>temperature</th>\n",
       "      <th>gender</th>\n",
       "      <th>heart_rate</th>\n",
       "    </tr>\n",
       "  </thead>\n",
       "  <tbody>\n",
       "    <tr>\n",
       "      <th>0</th>\n",
       "      <td>99.3</td>\n",
       "      <td>F</td>\n",
       "      <td>68.0</td>\n",
       "    </tr>\n",
       "    <tr>\n",
       "      <th>1</th>\n",
       "      <td>98.4</td>\n",
       "      <td>F</td>\n",
       "      <td>81.0</td>\n",
       "    </tr>\n",
       "    <tr>\n",
       "      <th>2</th>\n",
       "      <td>97.8</td>\n",
       "      <td>M</td>\n",
       "      <td>73.0</td>\n",
       "    </tr>\n",
       "    <tr>\n",
       "      <th>3</th>\n",
       "      <td>99.2</td>\n",
       "      <td>F</td>\n",
       "      <td>66.0</td>\n",
       "    </tr>\n",
       "    <tr>\n",
       "      <th>4</th>\n",
       "      <td>98.0</td>\n",
       "      <td>F</td>\n",
       "      <td>73.0</td>\n",
       "    </tr>\n",
       "  </tbody>\n",
       "</table>\n",
       "</div>"
      ],
      "text/plain": [
       "   temperature gender  heart_rate\n",
       "0         99.3      F        68.0\n",
       "1         98.4      F        81.0\n",
       "2         97.8      M        73.0\n",
       "3         99.2      F        66.0\n",
       "4         98.0      F        73.0"
      ]
     },
     "execution_count": 2,
     "metadata": {},
     "output_type": "execute_result"
    }
   ],
   "source": [
    "df = pd.read_csv('data/human_body_temperature.csv')\n",
    "df.head() # quick look at first five rows of dataframe data"
   ]
  },
  {
   "cell_type": "code",
   "execution_count": 3,
   "metadata": {},
   "outputs": [
    {
     "name": "stdout",
     "output_type": "stream",
     "text": [
      "<class 'pandas.core.frame.DataFrame'>\n",
      "RangeIndex: 130 entries, 0 to 129\n",
      "Data columns (total 3 columns):\n",
      "temperature    130 non-null float64\n",
      "gender         130 non-null object\n",
      "heart_rate     130 non-null float64\n",
      "dtypes: float64(2), object(1)\n",
      "memory usage: 3.1+ KB\n"
     ]
    }
   ],
   "source": [
    "# print summary of a DataFrame including the index dtype \n",
    "# and column dtypes, non-null values and memory usage.\n",
    "df.info()\n",
    "\n",
    "# the summary indicates there are 130 rows and 3 columns\n",
    "# and there are no null values that need to be addressed"
   ]
  },
  {
   "cell_type": "markdown",
   "metadata": {},
   "source": [
    "---------------------\n",
    "# 1. Is the distribution of body temperatures normal?\n",
    "\n",
    "- First, plot/graph the data for `'temperature'` to see if it appears to be normally distributed."
   ]
  },
  {
   "cell_type": "code",
   "execution_count": 4,
   "metadata": {},
   "outputs": [
    {
     "data": {
      "image/png": "[encoded data removed]",
      "text/plain": [
       "<Figure size 432x288 with 1 Axes>"
      ]
     },
     "metadata": {},
     "output_type": "display_data"
    }
   ],
   "source": [
    "sns.set()  # use seaborn default settings for displaying plots\n",
    "\n",
    "# plot a histogram using default number of bins with x-axis and y-axis labeled\n",
    "_ = plt.hist(df['temperature'])\n",
    "_ = plt.xlabel('temp (degree F)')\n",
    "_ = plt.ylabel('count')\n",
    "\n",
    "# dsiplay histogram\n",
    "plt.show()"
   ]
  },
  {
   "cell_type": "markdown",
   "metadata": {},
   "source": [
    "- #### The above histogram appears to be symmetric and unimodal, characteristics of a normal distribution\n",
    "\n",
    "- However, because the number of bins is arbitrary and can impact the histogram due to binning bias, the same data may be interpreted differently depending on choice of bins. The \"square root rule\" (`sqrt(n)`) is a commonly-used rule of thumb for choosing number of bins."
   ]
  },
  {
   "cell_type": "code",
   "execution_count": 5,
   "metadata": {},
   "outputs": [
    {
     "data": {
      "image/png": "[encoded data removed]",
      "text/plain": [
       "<Figure size 432x288 with 1 Axes>"
      ]
     },
     "metadata": {},
     "output_type": "display_data"
    }
   ],
   "source": [
    "# compute number of bins using \"square root rule\"\n",
    "n_bins = int(np.sqrt(len(df['temperature'])))\n",
    "\n",
    "_ = plt.hist(df['temperature'], bins=n_bins)\n",
    "_ = plt.xlabel('temp (degree F)')\n",
    "_ = plt.ylabel('count')\n",
    "plt.show()"
   ]
  },
  {
   "cell_type": "markdown",
   "metadata": {},
   "source": [
    "- #### The above histogram with an adjusted number of bins continues to appear symmetric and unimodal, characteristics of a normal distribution\n",
    "\n",
    "- Additionally, we can apply the Empirical (68% - 95% - 99.7%) rule to see if the values lie within one, two, and three standard deviations, respectively, above or below the mean in a normal distribution."
   ]
  },
  {
   "cell_type": "code",
   "execution_count": 6,
   "metadata": {},
   "outputs": [
    {
     "name": "stdout",
     "output_type": "stream",
     "text": [
      "\n",
      "******* Result ********\n",
      "\n",
      "Percent of temperatures that lie within 1, 2, and 3 standard deviations of sample mean.\n",
      "\tOne standard deviation:\t\t69.2%\n",
      "\tTwo standard deviations:\t94.6%\n",
      "\tThree standard deviations:\t99.2%\n",
      "\n",
      "***********************\n",
      "\n"
     ]
    }
   ],
   "source": [
    "# function to test empirical rule\n",
    "def test_emp_rule(data, dist=1):\n",
    "    \"\"\"\n",
    "    computes the percentage of values in list data that are \n",
    "    dist (1, 2, or 3) * data standard deviations from the data mean\n",
    "       \n",
    "    returns float   \n",
    "    \"\"\"\n",
    "    count = 0\n",
    "    d_std = np.std(data)\n",
    "    d_mean = np.mean(data)\n",
    "    \n",
    "    for d in data:\n",
    "        if d <= (d_mean + dist * d_std) and d >= (d_mean - dist * d_std):\n",
    "            count += 1\n",
    "    result = format((count/len(data))*100, '.1f')\n",
    "    return result\n",
    "\n",
    "temperatures = np.sort(df['temperature'])\n",
    "\n",
    "# compute percent of temperatures that fall within 1 standard deviation of the sample mean\n",
    "prcnt_1_std = test_emp_rule(temperatures)\n",
    "\n",
    "# compute percent of temperatures that fall within 2 standard deviation of the sample mean\n",
    "prcnt_2_std = test_emp_rule(temperatures, 2)\n",
    "\n",
    "# compute percent of temperatures that fall within 3 standard deviation of the sample mean\n",
    "prcnt_3_std = test_emp_rule(temperatures, 3)\n",
    "\n",
    "# print results\n",
    "print(\"\\n******* Result ********\\n\")\n",
    "print(\"Percent of temperatures that lie within 1, 2, and 3 standard deviations of sample mean.\")\n",
    "print(\"\\tOne standard deviation:\\t\\t\" + prcnt_1_std + '%')\n",
    "print(\"\\tTwo standard deviations:\\t\" + prcnt_2_std + '%')\n",
    "print(\"\\tThree standard deviations:\\t\" + prcnt_3_std + '%')\n",
    "print(\"\\n***********************\\n\")"
   ]
  },
  {
   "cell_type": "markdown",
   "metadata": {},
   "source": [
    "- The percent of temperatures appear to fit within the 68-95-99.7 Empirical rule."
   ]
  },
  {
   "cell_type": "code",
   "execution_count": 7,
   "metadata": {},
   "outputs": [
    {
     "name": "stdout",
     "output_type": "stream",
     "text": [
      "\n",
      "******* Result ********\n",
      "\n",
      "Using the scipy.stats.normaltest(...) on the distribution of body temperatures, we compute:\n",
      "\n",
      "The p-value (0.26) is > 0.05, so we cannot rejct the null hypothesis. \n",
      "Thus, the distribution is normal.\n",
      "\n",
      "***********************\n",
      "\n"
     ]
    }
   ],
   "source": [
    "# use stats normaltest(...) to test whether body temps differ from a normal distribution\n",
    "statistic, pval = stats.normaltest(df['temperature'])\n",
    "\n",
    "# set alpha\n",
    "alpha = 0.05\n",
    "\n",
    "print(\"\\n******* Result ********\\n\")\n",
    "print('Using the scipy.stats.normaltest(...) on the distribution of body temperatures, we compute:\\n')\n",
    "if(pval > alpha): \n",
    "    print('The p-value ({}) is > {}, so we cannot rejct the null hypothesis. \\nThus, the distribution is normal.'.format(round(pval,2), alpha))\n",
    "else:\n",
    "    print('The p-value ({}) is <= {}, so we can rejct the null hypothesis. \\nThus, the distribution is not normal.'.format(round(pval,2), alpha))\n",
    "print(\"\\n***********************\\n\")"
   ]
  },
  {
   "cell_type": "markdown",
   "metadata": {},
   "source": [
    "### Because the histogram appears to be symmetrical and unimodal, the data fits the Empirical rule, and we cannot reject the null hypothesis, we can say the body temperatures are normally distributed.\n",
    "--------------------"
   ]
  },
  {
   "cell_type": "markdown",
   "metadata": {},
   "source": [
    "----------------------------\n",
    "# 2. Is the sample size large? Are the observations independent?"
   ]
  },
  {
   "cell_type": "markdown",
   "metadata": {},
   "source": [
    "------\n",
    "**Is the sample size large?**"
   ]
  },
  {
   "cell_type": "code",
   "execution_count": 8,
   "metadata": {},
   "outputs": [
    {
     "data": {
      "text/plain": [
       "gender\n",
       "F    65\n",
       "M    65\n",
       "Name: temperature, dtype: int64"
      ]
     },
     "execution_count": 8,
     "metadata": {},
     "output_type": "execute_result"
    }
   ],
   "source": [
    "df.groupby('gender')['temperature'].count()"
   ]
  },
  {
   "cell_type": "markdown",
   "metadata": {},
   "source": [
    "This data set consists of only 130 samples (65 male, 65 female) selected from a slightly larger data set of 148 subjects totaling 700 readings. While this is small compared to the human population, it is still considered to be a large sample size."
   ]
  },
  {
   "cell_type": "markdown",
   "metadata": {},
   "source": [
    "------\n",
    "**Are the observations independent?**"
   ]
  },
  {
   "cell_type": "code",
   "execution_count": 9,
   "metadata": {},
   "outputs": [
    {
     "data": {
      "text/plain": [
       "<seaborn.axisgrid.PairGrid at 0x7f6591a89860>"
      ]
     },
     "execution_count": 9,
     "metadata": {},
     "output_type": "execute_result"
    },
    {
     "data": {
      "image/png": "[encoded data removed]",
      "text/plain": [
       "<Figure size 409.1x360 with 6 Axes>"
      ]
     },
     "metadata": {},
     "output_type": "display_data"
    }
   ],
   "source": [
    "#sns.jointplot(x='temperature', y='heart_rate', data=df)\n",
    "sns.pairplot(df, hue='gender')"
   ]
  },
  {
   "cell_type": "markdown",
   "metadata": {},
   "source": [
    "When displaying `'temperature'` vs. `'heart_rate'` data based on `'gender'` in a scatterplot, visually, there does not appear to be any correlation, indicating the data is independent. "
   ]
  },
  {
   "cell_type": "markdown",
   "metadata": {},
   "source": [
    "In addition, when we consider the **'10% Rule'** of independence, 130 subjects is < 10% of the human population which further supports that the observations are in fact independent."
   ]
  },
  {
   "cell_type": "markdown",
   "metadata": {},
   "source": [
    "----------------------------\n",
    "# 3. Is the true population mean really 98.6 degrees F?\n",
    "\n",
    "* First, try a bootstrap hypothesis test.\n",
    "* Next, try frequentist statistical testing. \n",
    "    * Would you use a one-sample or two-sample test? \n",
    "        * Why?\n",
    "* In this situation, is it appropriate to use the  𝑡  or  𝑧  statistic?\n",
    "* Finally, try using the other test. \n",
    "    * How is the result be different? \n",
    "        * Why?"
   ]
  },
  {
   "cell_type": "markdown",
   "metadata": {},
   "source": [
    "### Based on DataCamp's Statistical Thinking in Python 2 - Intro to Hypothesis Testing\n",
    "\n",
    "**Pipeline for Hypothesis Testing includes:**\n",
    "    * Clearly state the null hypothesis\n",
    "    * Define your test statistic\n",
    "    * Generate many sets of simulated data assuming the null hypothesis is true\n",
    "    * Compute the test statistic for each simulated data set\n",
    "    * The p-value is the fraction of the simulated data sets for which the test statistic is >= the real data"
   ]
  },
  {
   "cell_type": "markdown",
   "metadata": {},
   "source": [
    "#### Bootstrap Hypothesis Test:\n",
    "* $H_0: \\mu = 98.6$\n",
    "* $H_a: \\mu \\neq 98.6$\n",
    "* Test Statistic = mean temperature"
   ]
  },
  {
   "cell_type": "code",
   "execution_count": 10,
   "metadata": {},
   "outputs": [],
   "source": [
    "# define same functions from datacamp modules to generate bootstrap replicates\n",
    "def bootstrap_replicate(data, func):\n",
    "    \"\"\"\n",
    "    Generate bootstrap replicate data\n",
    "    \"\"\"\n",
    "    bs_sample = np.random.choice(data, len(data))\n",
    "    return func(bs_sample)\n",
    "\n",
    "def draw_bs_reps(data, func, size=1):\n",
    "    \"\"\"\n",
    "    Draw bootstrap replicates\n",
    "    \"\"\"\n",
    "    # initialize array of replicates\n",
    "    bs_replicates = np.empty(size)\n",
    "    # generate replicates\n",
    "    for i in range(size):\n",
    "        bs_replicates[i] = bootstrap_replicate(data, func)\n",
    "    return bs_replicates"
   ]
  },
  {
   "cell_type": "code",
   "execution_count": 11,
   "metadata": {},
   "outputs": [],
   "source": [
    "bs_reps = draw_bs_reps(df['temperature'], np.mean, 100000)"
   ]
  },
  {
   "cell_type": "code",
   "execution_count": 12,
   "metadata": {},
   "outputs": [],
   "source": [
    "mu_mean = 98.6\n",
    "p_val = ((bs_reps >= mu_mean)/len(bs_reps)).sum()"
   ]
  },
  {
   "cell_type": "code",
   "execution_count": 13,
   "metadata": {},
   "outputs": [
    {
     "name": "stdout",
     "output_type": "stream",
     "text": [
      "\n",
      "******* Result ********\n",
      "\n",
      "Using Bootstrap Hypothesis Testing, we compute:\n",
      "The p-value (0.0) is <= 0.01, based on these observations, we can reject the null hypothesis.\n",
      "\n",
      "***********************\n",
      "\n"
     ]
    }
   ],
   "source": [
    "# set low alpha \n",
    "bs_alpha = 0.01\n",
    "\n",
    "print(\"\\n******* Result ********\\n\")\n",
    "print('Using Bootstrap Hypothesis Testing, we compute:')\n",
    "if(p_val > bs_alpha): \n",
    "    print('The p-value ({}) is > {}, based on these observations, we cannot reject the null hypothesis.'.format(p_val, bs_alpha))\n",
    "else:\n",
    "    print('The p-value ({}) is <= {}, based on these observations, we can reject the null hypothesis.'.format(p_val, bs_alpha))\n",
    "print(\"\\n***********************\\n\")"
   ]
  },
  {
   "cell_type": "markdown",
   "metadata": {},
   "source": [
    "----\n",
    "### Frequentist statistical testing\n",
    "\n",
    "#### Would you use a one-sample or two-sample test? Why?"
   ]
  },
  {
   "cell_type": "markdown",
   "metadata": {},
   "source": [
    "- Two-sample hypothesis testing is statistical analysis designed to test if there is a difference between two means from two different populations. In this case, we are working with a single population mean (98.6) and a sample mean and sample standard deviation. \n",
    "     \n",
    "   **Because of this, we need to use a One-Sample Test.**"
   ]
  },
  {
   "cell_type": "markdown",
   "metadata": {},
   "source": [
    "#### In this situation, is it appropriate to use the 𝑡 or 𝑧 statistic?"
   ]
  },
  {
   "cell_type": "markdown",
   "metadata": {},
   "source": [
    "- A One-Sample Z-test is used when you have a normally distributed population and the σ is known. A One-Sample T-test is used when you have a normally distributed population and the σ is *not* known.\n",
    "\n",
    "    **Because of this, we need to use the *t* statistic to determine whether the difference between the known population mean and sample mean is statistically significant or occurred by chance alone.**"
   ]
  },
  {
   "cell_type": "markdown",
   "metadata": {},
   "source": [
    "---\n",
    "**One-Sample using *t*-statistic**"
   ]
  },
  {
   "cell_type": "code",
   "execution_count": 14,
   "metadata": {},
   "outputs": [
    {
     "name": "stdout",
     "output_type": "stream",
     "text": [
      "\n",
      "******* Result ********\n",
      "\n",
      "Using the scipy.stats.ttest_1samp(...) on body temperatures, we compute:\n",
      "\n",
      "T-statistic = -5.4548\n",
      "This indicates that the body temperatures are 5.45 standard deviations from the pop. mean.\n",
      "p-value = 2.4106320415561276e-07\n",
      "\n",
      "The p-value (2.4e-07) is <= 0.05, so we can reject the null hypothesis.\n",
      "\n",
      "***********************\n",
      "\n"
     ]
    }
   ],
   "source": [
    "# population mean\n",
    "mu_mean = 98.6\n",
    "# set alpha\n",
    "alpha = 0.05\n",
    "# use stats t-test for 1 sample to perform two-sided test for the null hypothesis that the \n",
    "# expected value (mean) of a sample of independent observations is equal to the given pop. mean\n",
    "t_statistic, t_pval = stats.ttest_1samp(df['temperature'].values, mu_mean)\n",
    "\n",
    "print(\"\\n******* Result ********\\n\")\n",
    "print('Using the scipy.stats.ttest_1samp(...) on body temperatures, we compute:\\n')\n",
    "t_stat = round(np.abs(t_statistic),2)\n",
    "print('T-statistic = {}'.format(round(t_statistic,4)))\n",
    "print('This indicates that the body temperatures are {} standard deviations from the pop. mean.'.format(t_stat))\n",
    "print('p-value = {}\\n'.format(t_pval))\n",
    "\n",
    "if(t_pval > alpha): \n",
    "    print('The p-value ({}) is > {}, so we cannot reject the null hypothesis.'.format(round(t_pval,8), alpha))\n",
    "else:\n",
    "    print('The p-value ({}) is <= {}, so we can reject the null hypothesis.'.format(round(t_pval,8), alpha))\n",
    "print(\"\\n***********************\\n\")"
   ]
  },
  {
   "cell_type": "markdown",
   "metadata": {},
   "source": [
    "----\n",
    "**One-Sample Test using *z*-statistic**\n",
    "\n",
    "Z-Score Formula: Standard Error of the Mean\n",
    "\n",
    "**`z` = (`x` – `μ`) / (`σ` / √`n`)**\n",
    "\n",
    "Where:\n",
    "* `x` = sample mean\n",
    "* `μ` = population mean\n",
    "* `σ` = sample standard deviation\n",
    "* `n` = number of samples"
   ]
  },
  {
   "cell_type": "code",
   "execution_count": 15,
   "metadata": {},
   "outputs": [],
   "source": [
    "# compute the standard error: SE = (σ / √n)\n",
    "SE = np.std(df['temperature'].values) / np.sqrt(len(df['temperature'].values))\n",
    "\n",
    "# compute the mean difference: MD = (x – μ)\n",
    "MD = np.mean(df['temperature'].values) - mu_mean\n",
    "\n",
    "# compute z-statistic\n",
    "z_stat = round(MD / SE, 4)\n",
    "\n",
    "# compute two-sided p-value for z-statistic\n",
    "z_pval = stats.norm.sf(abs(z_stat))*2"
   ]
  },
  {
   "cell_type": "code",
   "execution_count": 16,
   "metadata": {},
   "outputs": [
    {
     "name": "stdout",
     "output_type": "stream",
     "text": [
      "\n",
      "******* Result ********\n",
      "\n",
      "Using the Z-score Formula for body temperatures, we compute:\n",
      "\n",
      "Z-statistic = -5.4759\n",
      "This indicates that the body temperatures are 5.4759 standard deviations from the pop. mean.\n",
      "p-value = 4.352934723956801e-08\n",
      "\n",
      "The p-value (4e-08) is <= 0.05, so we can reject the null hypothesis.\n",
      "\n",
      "***********************\n",
      "\n"
     ]
    }
   ],
   "source": [
    "print(\"\\n******* Result ********\\n\")\n",
    "print('Using the Z-score Formula for body temperatures, we compute:\\n')\n",
    "print('Z-statistic = {}'.format(z_stat))\n",
    "print('This indicates that the body temperatures are {} standard deviations from the pop. mean.'.format(abs(z_stat)))\n",
    "print('p-value = {}\\n'.format(z_pval))\n",
    "if(z_pval > alpha): \n",
    "    print('The p-value ({}) is > {}, so we cannot reject the null hypothesis.'.format(round(z_pval,8), alpha))\n",
    "else:\n",
    "    print('The p-value ({}) is <= {}, so we can reject the null hypothesis.'.format(round(z_pval,8), alpha))\n",
    "print(\"\\n***********************\\n\")"
   ]
  },
  {
   "cell_type": "markdown",
   "metadata": {},
   "source": [
    "The t-stat and z-stat are both approximately -5 with P-value's near zero.\n",
    "The temperatures would not be observed within 5 standard deviations of the population mean in both tests."
   ]
  },
  {
   "cell_type": "markdown",
   "metadata": {},
   "source": [
    "----\n",
    "\n",
    "# 4. Draw a small sample of size 10 from the data and repeat both frequentist tests.\n",
    "\n",
    "* **Which one is the correct one to use?**\n",
    "    - When the sample size is >= 30, then it is okay to use z-statistic.\n",
    "    - In this case, with a sample size = 10, we need to use the t-statistic."
   ]
  },
  {
   "cell_type": "code",
   "execution_count": 17,
   "metadata": {},
   "outputs": [],
   "source": [
    "# select random sample of 10 temperatures\n",
    "np.random.seed(20)\n",
    "rand_temps = np.random.choice(df['temperature'], size=10)"
   ]
  },
  {
   "cell_type": "code",
   "execution_count": 18,
   "metadata": {},
   "outputs": [],
   "source": [
    "# population mean\n",
    "mu_mean = 98.6\n",
    "# set alpha\n",
    "alpha = 0.05\n",
    "# use stats t-test for 1 sample to perform two-sided test for the null hypothesis that the \n",
    "# expected value (mean) of 10 random observations is equal to the given pop. mean\n",
    "t_rand_statistic, t_rand_pval = stats.ttest_1samp(rand_temps, mu_mean)"
   ]
  },
  {
   "cell_type": "code",
   "execution_count": 19,
   "metadata": {},
   "outputs": [],
   "source": [
    "# compute the standard error: SE = (σ / √n)\n",
    "rand_SE = np.std(rand_temps) / np.sqrt(len(rand_temps))\n",
    "\n",
    "# compute the mean difference: MD = (x – μ)\n",
    "rand_MD = np.mean(rand_temps) - mu_mean\n",
    "\n",
    "# compute z-statistic\n",
    "z_rand_stat = round(rand_MD / rand_SE, 4)\n",
    "\n",
    "# compute two-sided p-value for z-statistic\n",
    "z_rand_pval = stats.norm.sf(abs(z_rand_stat))*2"
   ]
  },
  {
   "cell_type": "code",
   "execution_count": 20,
   "metadata": {},
   "outputs": [
    {
     "name": "stdout",
     "output_type": "stream",
     "text": [
      "\n",
      "******* Result for t-test ********\n",
      "\n",
      "Using the scipy.stats.ttest_1samp(...) on 10 random body temperatures, we compute:\n",
      "\n",
      "T-statistic = -2.0239\n",
      "This indicates that the 10 random body temperatures are 2.02 standard deviations from the pop. mean.\n",
      "p-value = 0.0736624232263132\n",
      "\n",
      "The p-value (0.07366242) is > 0.05, so we cannot reject the null hypothesis.\n",
      "\n",
      "***********************\n",
      "\n",
      "\n",
      "******* Result for z-test ********\n",
      "\n",
      "Using the Z-score Formula for 10 random body temperatures, we compute:\n",
      "\n",
      "Z-statistic = -2.1333\n",
      "This indicates that the 10 random body temperatures are 2.1333 standard deviations from the pop. mean.\n",
      "p-value = 0.03290012422638377\n",
      "\n",
      "The p-value (0.03290012) is <= 0.05, so we can reject the null hypothesis.\n",
      "\n",
      "***********************\n",
      "\n"
     ]
    }
   ],
   "source": [
    "print(\"\\n******* Result for t-test ********\\n\")\n",
    "print('Using the scipy.stats.ttest_1samp(...) on 10 random body temperatures, we compute:\\n')\n",
    "t_rand_stat = round(np.abs(t_rand_statistic),2)\n",
    "print('T-statistic = {}'.format(round(t_rand_statistic,4)))\n",
    "print('This indicates that the 10 random body temperatures are {} standard deviations from the pop. mean.'.format(t_rand_stat))\n",
    "print('p-value = {}\\n'.format(t_rand_pval))\n",
    "\n",
    "if(t_rand_pval > alpha): \n",
    "    print('The p-value ({}) is > {}, so we cannot reject the null hypothesis.'.format(round(t_rand_pval,8), alpha))\n",
    "else:\n",
    "    print('The p-value ({}) is <= {}, so we can reject the null hypothesis.'.format(round(t_rand_pval,8), alpha))\n",
    "print(\"\\n***********************\\n\")\n",
    "\n",
    "print(\"\\n******* Result for z-test ********\\n\")\n",
    "print('Using the Z-score Formula for 10 random body temperatures, we compute:\\n')\n",
    "print('Z-statistic = {}'.format(z_rand_stat))\n",
    "print('This indicates that the 10 random body temperatures are {} standard deviations from the pop. mean.'.format(abs(z_rand_stat)))\n",
    "print('p-value = {}\\n'.format(z_rand_pval))\n",
    "if(z_rand_pval > alpha): \n",
    "    print('The p-value ({}) is > {}, so we cannot reject the null hypothesis.'.format(round(z_rand_pval,8), alpha))\n",
    "else:\n",
    "    print('The p-value ({}) is <= {}, so we can reject the null hypothesis.'.format(round(z_rand_pval,8), alpha))\n",
    "print(\"\\n***********************\\n\")"
   ]
  },
  {
   "cell_type": "markdown",
   "metadata": {},
   "source": [
    "* **What do you notice?**\n",
    "    * For both tests, we get similar scores with the t-stat having a slightly lower score and higher p-value. \n",
    "    * In addition, at different significance levels, rejection of the null hypothesis varies:\n",
    "        * significance level = 0.01\n",
    "            - we cannot reject the null hypothesis for both tests\n",
    "        * significance level = 0.05\n",
    "            - we cannot reject the null hypothesis for t-test\n",
    "            - we can reject the null hypothesis for the z-test\n",
    "        * significance level = 0.10\n",
    "            - we can reject the null hypothesis for both tests"
   ]
  },
  {
   "cell_type": "markdown",
   "metadata": {},
   "source": [
    "* **What does this tell you about the difference in application of the 𝑡 and 𝑧 statistic?**\n",
    "    * When samples are smaller than 30, the distribution is no longer a normal distribution and instead becomes a t-distribution. "
   ]
  },
  {
   "cell_type": "markdown",
   "metadata": {},
   "source": [
    "---\n",
    "# 5. At what temperature should we consider someone's temperature to be \"abnormal\"?\n",
    "\n",
    "**As in the previous example, try calculating everything using the boostrap approach, as well as the frequentist approach.**"
   ]
  },
  {
   "cell_type": "markdown",
   "metadata": {},
   "source": [
    "* **Start by computing the margin of error and confidence interval.**\n",
    "    \n",
    "    When calculating the confidence interval, keep in mind that you should use the appropriate formula for one draw, and not N draws."
   ]
  },
  {
   "cell_type": "code",
   "execution_count": 21,
   "metadata": {},
   "outputs": [
    {
     "name": "stdout",
     "output_type": "stream",
     "text": [
      "A 68% level of confidence for body temps with a mean of 98.25 and a 0.06 margin of error is:  98.19 to 98.31\n",
      "At this confidence level, body temperatures outside of this range are considered 'abnormal'.\n",
      "\n",
      "A 95% level of confidence for body temps with a mean of 98.25 and a 0.13 margin of error is:  98.12 to 98.38\n",
      "At this confidence level, body temperatures outside of this range are considered 'abnormal'.\n",
      "\n",
      "A 99% level of confidence for body temps with a mean of 98.25 and a 0.16 margin of error is:  98.09 to 98.41\n",
      "At this confidence level, body temperatures outside of this range are considered 'abnormal'.\n",
      "\n"
     ]
    }
   ],
   "source": [
    "# compute the margin of error (similar as before but for specific confidence level)\n",
    "# set confidence levels for 68%, 95%, and 99% using standard probability table \n",
    "cl_list = [1.0, 1.96, 2.576]\n",
    "prcnt_list = [68, 95, 99]\n",
    "\n",
    "# compute the standard error: SE = (σ / √n)\n",
    "SE = round(np.std(df['temperature'].values) / np.sqrt(len(df['temperature'].values)), 3)\n",
    "\n",
    "bs_reps = draw_bs_reps(df['temperature'], np.mean, 100000)\n",
    "rand_mean = round(np.mean(bs_reps), 2)\n",
    "\n",
    "for idx,cl in enumerate(cl_list):\n",
    "    ME = round(cl * SE, 2)\n",
    "    print(\"A {}% level of confidence for body temps with a mean of {} and a {} margin of error is:  {} to {}\".format(prcnt_list[idx], rand_mean, ME, rand_mean-ME, rand_mean+ME))\n",
    "    print(\"At this confidence level, body temperatures outside of this range are considered 'abnormal'.\\n\")"
   ]
  },
  {
   "cell_type": "markdown",
   "metadata": {},
   "source": [
    "# 6. Is there a significant difference between males and females in normal temperature?\n",
    "\n",
    "* **What testing approach did you use and why?**\n",
    "    * I chose to use the stats.ttest_ind(...) function to compare independent Male vs. Female body temperature observations.\n",
    "    * Rather than stats function, **permutations** (using permutation replicate) would be appropriate approach for this case.\n",
    "        * I would randomly reorder the observations to test if they are independently and identically distributed."
   ]
  },
  {
   "cell_type": "markdown",
   "metadata": {},
   "source": [
    "* $H_0: \\mu_m = \\mu_f$\n",
    "* $H_a: \\mu_m \\neq \\mu_f$\n",
    "* Test Statistic = mean temperature"
   ]
  },
  {
   "cell_type": "code",
   "execution_count": 22,
   "metadata": {},
   "outputs": [
    {
     "name": "stdout",
     "output_type": "stream",
     "text": [
      "\n",
      "******* Result for t-test ********\n",
      "\n",
      "Using the stats.ttest_ind(...) on two samples\\groups of independent body temperature observations, we compute:\n",
      "\n",
      "T-statistic = -2.2854\n",
      "p-value = 0.023938264182934196\n",
      "\n",
      "The p-value (0.024) is <= 0.05, so we can reject the null hypothesis.\n",
      "\n",
      "***********************\n",
      "\n"
     ]
    }
   ],
   "source": [
    "# set alpha\n",
    "alpha = 0.05\n",
    "\n",
    "# chose to use t-test to compare two groups of independent observations with normal distributions\n",
    "t_test, t_pval = stats.ttest_ind(a=df.temperature[df['gender']=='M'].values, \n",
    "                                 b=df.temperature[df['gender']=='F'].values, \n",
    "                                 equal_var=False)\n",
    "\n",
    "print(\"\\n******* Result for t-test ********\\n\")\n",
    "print('Using the stats.ttest_ind(...) on two samples\\groups of independent body temperature observations, we compute:\\n')\n",
    "print('T-statistic = {}'.format(round(t_test,4)))\n",
    "print('p-value = {}\\n'.format(t_pval))\n",
    "\n",
    "if(t_pval > alpha): \n",
    "    print('The p-value ({}) is > {}, so we cannot reject the null hypothesis.'.format(round(t_pval,3), alpha))\n",
    "else:\n",
    "    print('The p-value ({}) is <= {}, so we can reject the null hypothesis.'.format(round(t_pval,3), alpha))\n",
    "print(\"\\n***********************\\n\")"
   ]
  },
  {
   "cell_type": "markdown",
   "metadata": {},
   "source": [
    "* **Write a story with your conclusion in the context of the original problem.**\n",
    "    * When considering a 95% confidence interval, we would reject the null hypothesis that the mean body temperatures for Males are equal to those as Females.\n",
    "    * The p-value indicates there is a significant difference between the means.\n",
    "    \n",
    "**In summary, it may be necessary to consider Male and Female body temperatures independently rather than a single human value. Also, it may also be necessary to compare means in which the temperatures were taken\\recorded as the method used to observe temps can impact the temperatures themselves.**"
   ]
  },
  {
   "cell_type": "code",
   "execution_count": null,
   "metadata": {},
   "outputs": [],
   "source": []
  },
  {
   "cell_type": "code",
   "execution_count": null,
   "metadata": {},
   "outputs": [],
   "source": []
  },
  {
   "cell_type": "code",
   "execution_count": null,
   "metadata": {},
   "outputs": [],
   "source": []
  },
  {
   "cell_type": "code",
   "execution_count": null,
   "metadata": {},
   "outputs": [],
   "source": []
  }
 ],
 "metadata": {
  "kernelspec": {
   "display_name": "Python 3",
   "language": "python",
   "name": "python3"
  },
  "language_info": {
   "codemirror_mode": {
    "name": "ipython",
    "version": 3
   },
   "file_extension": ".py",
   "mimetype": "text/x-python",
   "name": "python",
   "nbconvert_exporter": "python",
   "pygments_lexer": "ipython3",
   "version": "3.7.1"
  }
 },
 "nbformat": 4,
 "nbformat_minor": 1
}
