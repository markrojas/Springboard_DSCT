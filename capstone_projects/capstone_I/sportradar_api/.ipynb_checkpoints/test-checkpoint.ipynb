version https://git-lfs.github.com/spec/v1
oid sha256:67ffdc34ab2a75d97baa3e6ae8d64cfb1c894aacbc05b07dc0cd54981ffff12b
size 80085
