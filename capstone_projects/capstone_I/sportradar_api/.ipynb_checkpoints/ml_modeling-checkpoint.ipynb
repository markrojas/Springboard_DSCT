version https://git-lfs.github.com/spec/v1
oid sha256:02e17b9cf088696225c181a81b9e5a8d97b99c10f00976167b91db3c0583650c
size 2400152
