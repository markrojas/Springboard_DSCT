version https://git-lfs.github.com/spec/v1
oid sha256:6f49d9c3d7c0030ae36cd91030ec807026a784b6c85506c8874ef16eb9a3f89d
size 604215
