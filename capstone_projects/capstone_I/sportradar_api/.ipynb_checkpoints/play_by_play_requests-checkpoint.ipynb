{
 "cells": [
  {
   "cell_type": "code",
   "execution_count": null,
   "metadata": {},
   "outputs": [],
   "source": [
    "import os\n",
    "import http.client\n",
    "import time\n",
    "import json\n",
    "from pandas.io.json import json_normalize\n",
    "import numpy as np\n",
    "import pandas as pd\n",
    "from datetime import datetime, timedelta\n",
    "from dateutil import tz"
   ]
  },
  {
   "cell_type": "code",
   "execution_count": 11,
   "metadata": {},
   "outputs": [],
   "source": [
    "# 90-day Free Trial (start-date = 9/9/2018)\n",
    "filename = 'api_key'\n",
    "\n",
    "# using function from \"Keeping API Keys Secret.ipynb\"\n",
    "# by https://github.com/dylburger\n",
    "def get_file_contents(filename):\n",
    "    \"\"\" Given a filename,\n",
    "        return the contents of that file\n",
    "    \"\"\"\n",
    "    try:\n",
    "        with open(filename, 'r') as f:\n",
    "            # It's assumed our file contains a single line,\n",
    "            # with our API key\n",
    "            return f.read().strip()\n",
    "    except FileNotFoundError:\n",
    "        print(\"'%s' file not found\" % filename)\n",
    "\n",
    "my_api_key = get_file_contents(filename)"
   ]
  },
  {
   "cell_type": "code",
   "execution_count": 13,
   "metadata": {},
   "outputs": [],
   "source": [
    "basepath = 'data/id_files/'\n",
    "end_str = '_game_ids_2017.csv'\n",
    "paths = []\n",
    "for fname in os.listdir(basepath):\n",
    "    path = os.path.join(basepath, fname)\n",
    "    if not os.path.isdir(path) and path.endswith(end_str):\n",
    "        paths.append(path)\n",
    "        \n",
    "#paths"
   ]
  },
  {
   "cell_type": "code",
   "execution_count": null,
   "metadata": {
    "scrolled": false
   },
   "outputs": [],
   "source": [
    "#yr = 2016\n",
    "yr = 2017\n",
    "\n",
    "for path in paths:\n",
    "    \n",
    "    df = pd.read_csv(path)\n",
    "    path = path.split(sep='/')\n",
    "    path = path[2].split(sep='_')\n",
    "    \n",
    "    for index, row in df.iterrows():\n",
    "        \n",
    "        dt = row['date'].replace('-', '_')\n",
    "        g_id = row['game_id'].replace('-', '_')\n",
    "        \n",
    "        out_file = \"data/pbp_files/\" + str(yr) + '/' + path[0] + '_' + path[1] + '/' + dt + '_' + row['team'] + '_vs_' + row['opp'] + '_' + g_id + '_pbp.json'\n",
    "        #print(out_file)\n",
    "        \n",
    "        request = \"/mlb/trial/v6.5/en/games/\" + row['game_id'] + \"/pbp.json?api_key=\" + my_api_key\n",
    "        #print(request)\n",
    "        \n",
    "        # send request to sportradar server using the HTTP request url.\n",
    "        conn = http.client.HTTPSConnection(\"api.sportradar.us\")\n",
    "        conn.request(\"GET\", request)\n",
    "        \n",
    "        # get response from server and store HTTPResponse instance\n",
    "        res = conn.getresponse()\n",
    "        \n",
    "        # read response body and decode possible UTF-8 signature \n",
    "        # at the beginning of some files\n",
    "        json_data = json.loads(res.read().decode(\"utf-8\"))\n",
    "        \n",
    "        # write results to json output file\n",
    "        with open(out_file, 'w') as outfile:\n",
    "            json.dump(json_data, outfile)\n",
    "        \n",
    "        print(\"{} -- written\".format(out_file))\n",
    "        # Wait for 1 second\n",
    "        time.sleep(1)"
   ]
  },
  {
   "cell_type": "markdown",
   "metadata": {},
   "source": [
    "## END"
   ]
  },
  {
   "cell_type": "code",
   "execution_count": null,
   "metadata": {},
   "outputs": [],
   "source": []
  },
  {
   "cell_type": "code",
   "execution_count": null,
   "metadata": {},
   "outputs": [],
   "source": []
  },
  {
   "cell_type": "code",
   "execution_count": null,
   "metadata": {},
   "outputs": [],
   "source": []
  },
  {
   "cell_type": "code",
   "execution_count": null,
   "metadata": {},
   "outputs": [],
   "source": []
  },
  {
   "cell_type": "code",
   "execution_count": null,
   "metadata": {},
   "outputs": [],
   "source": []
  },
  {
   "cell_type": "code",
   "execution_count": null,
   "metadata": {},
   "outputs": [],
   "source": []
  },
  {
   "cell_type": "code",
   "execution_count": null,
   "metadata": {},
   "outputs": [],
   "source": []
  },
  {
   "cell_type": "code",
   "execution_count": null,
   "metadata": {},
   "outputs": [],
   "source": []
  },
  {
   "cell_type": "code",
   "execution_count": null,
   "metadata": {},
   "outputs": [],
   "source": []
  },
  {
   "cell_type": "code",
   "execution_count": null,
   "metadata": {},
   "outputs": [],
   "source": []
  }
 ],
 "metadata": {
  "kernelspec": {
   "display_name": "Python 3",
   "language": "python",
   "name": "python3"
  },
  "language_info": {
   "codemirror_mode": {
    "name": "ipython",
    "version": 3
   },
   "file_extension": ".py",
   "mimetype": "text/x-python",
   "name": "python",
   "nbconvert_exporter": "python",
   "pygments_lexer": "ipython3",
   "version": "3.6.6"
  }
 },
 "nbformat": 4,
 "nbformat_minor": 2
}
