{
 "cells": [
  {
   "cell_type": "code",
   "execution_count": 18,
   "metadata": {},
   "outputs": [],
   "source": [
    "import os\n",
    "import numpy as np\n",
    "import pandas as pd\n",
    "from datetime import datetime"
   ]
  },
  {
   "cell_type": "markdown",
   "metadata": {},
   "source": [
    "## Examples to test Datetime comparisons\n",
    "\n",
    "- To be used to extract game id's based on specific dates for specific teams"
   ]
  },
  {
   "cell_type": "markdown",
   "metadata": {},
   "source": [
    "### Open Combined ID's Files"
   ]
  },
  {
   "cell_type": "code",
   "execution_count": 19,
   "metadata": {},
   "outputs": [],
   "source": [
    "# path to team_ids.csv file\n",
    "path_2016 = 'data/id_files/combined_ids_2016.csv'\n",
    "path_2017 = 'data/id_files/combined_ids_2017.csv'\n",
    "path_2018 = 'data/id_files/combined_ids_2018.csv'\n",
    "\n",
    "# open game_ids.csv file to combine with team IDs\n",
    "combined_ids_2016 = pd.read_csv(path_2016)\n",
    "combined_ids_2017 = pd.read_csv(path_2017)\n",
    "combined_ids_2018 = pd.read_csv(path_2018)"
   ]
  },
  {
   "cell_type": "markdown",
   "metadata": {},
   "source": [
    "### Open Team ID's File and Game ID's File to Associate with Pitcher's Games"
   ]
  },
  {
   "cell_type": "code",
   "execution_count": 20,
   "metadata": {},
   "outputs": [],
   "source": [
    "# path to team_ids.csv and game_ids.csv file\n",
    "team_id_path = 'data/id_files/team_ids.csv'\n",
    "#game_id_path = 'data/id_files/game_ids_2016.csv'\n",
    "#game_id_path = 'data/id_files/game_ids_2017.csv'\n",
    "game_id_path = 'data/id_files/game_ids_2018.csv'"
   ]
  },
  {
   "cell_type": "code",
   "execution_count": 21,
   "metadata": {},
   "outputs": [
    {
     "data": {
      "text/plain": [
       "Index(['name', 'market', 'abbr', 'id'], dtype='object')"
      ]
     },
     "execution_count": 21,
     "metadata": {},
     "output_type": "execute_result"
    }
   ],
   "source": [
    "# open team_ids.csv file\n",
    "df_team_ids = pd.read_csv(team_id_path)\n",
    "df_team_ids.columns"
   ]
  },
  {
   "cell_type": "code",
   "execution_count": 22,
   "metadata": {},
   "outputs": [
    {
     "data": {
      "text/plain": [
       "Index(['id', 'away_team', 'home_team', 'scheduled', 'rescheduled'], dtype='object')"
      ]
     },
     "execution_count": 22,
     "metadata": {},
     "output_type": "execute_result"
    }
   ],
   "source": [
    "# open game_ids.csv file\n",
    "df_game_ids = pd.read_csv(game_id_path)\n",
    "df_game_ids.columns"
   ]
  },
  {
   "cell_type": "markdown",
   "metadata": {},
   "source": [
    "### Format Dates for Pitcher Log(s) to Compare to Game ID Dates"
   ]
  },
  {
   "cell_type": "code",
   "execution_count": 23,
   "metadata": {},
   "outputs": [],
   "source": [
    "def get_pitcher_dates(pitcher_frame, team_frame, game_frame, yr):\n",
    "    cols = ['game_id', 'date', 'team', 'team_id', 'opp', 'opp_id']\n",
    "    team_list = []\n",
    "    combined_list = []\n",
    "    \n",
    "    for t_idx, t_row in team_frame.iterrows():\n",
    "        team_list.append((t_row['abbr'], t_row['id']))\n",
    "    team_dict = dict(team_list)\n",
    "    \n",
    "    for p_idx, p_row in pitcher_frame.iterrows():\n",
    "        dt = p_row['Date']\n",
    "        if type(dt) == str:\n",
    "            dt = datetime.strptime(dt, '%b %d')\n",
    "            dt = dt.replace(year=yr)\n",
    "            dt = datetime.strftime(dt, '%Y-%m-%d')\n",
    "            \n",
    "            team_name = p_row['Tm']\n",
    "            opp_name = p_row['Opp']\n",
    "            team_id = team_dict[team_name]\n",
    "            opp_id = team_dict[opp_name]\n",
    "\n",
    "            for g_idx, g_row in game_frame.iterrows():\n",
    "                s_dt = g_row['scheduled']\n",
    "                r_dt = g_row['rescheduled']\n",
    "                t_id = g_row['home_team']\n",
    "                o_id = g_row['away_team']\n",
    "                if (dt == s_dt or dt == r_dt) and (team_id == t_id or team_id == o_id) and (opp_id == t_id or opp_id == o_id):\n",
    "                    combined_list.append([g_row['id'], dt, team_name, team_id, opp_name, opp_id])\n",
    "    new_frame = pd.DataFrame(combined_list, columns=cols)\n",
    "    return new_frame"
   ]
  },
  {
   "cell_type": "markdown",
   "metadata": {},
   "source": [
    "### Open Pitcher Log(s) Files to Get Specific Game ID's"
   ]
  },
  {
   "cell_type": "code",
   "execution_count": 24,
   "metadata": {},
   "outputs": [
    {
     "data": {
      "text/plain": [
       "['data/pitcher_logs/jose_quintana_2018.csv',\n",
       " 'data/pitcher_logs/jake_arrieta_2018.csv',\n",
       " 'data/pitcher_logs/david_price_2018.csv',\n",
       " 'data/pitcher_logs/justin_verlander_2018.csv',\n",
       " 'data/pitcher_logs/gerrit_cole_2018.csv',\n",
       " 'data/pitcher_logs/michael_fulmer_2018.csv',\n",
       " 'data/pitcher_logs/max_scherzer_2018.csv',\n",
       " 'data/pitcher_logs/chris_archer_2018.csv',\n",
       " 'data/pitcher_logs/yu_darvish_2018.csv',\n",
       " 'data/pitcher_logs/dallas_keuchel_2018.csv',\n",
       " 'data/pitcher_logs/chris_sale_2018.csv',\n",
       " 'data/pitcher_logs/aaron_nola_2018.csv',\n",
       " 'data/pitcher_logs/zack_greinke_2018.csv',\n",
       " 'data/pitcher_logs/stephen_strasburg_2018.csv',\n",
       " 'data/pitcher_logs/carlos_carrasco_2018.csv',\n",
       " 'data/pitcher_logs/corey_kluber_2018.csv',\n",
       " 'data/pitcher_logs/jacob_degrom_2018.csv',\n",
       " 'data/pitcher_logs/marcus_stroman_2018.csv',\n",
       " 'data/pitcher_logs/clayton_kershaw_2018.csv',\n",
       " 'data/pitcher_logs/carlos_martinez_2018.csv']"
      ]
     },
     "execution_count": 24,
     "metadata": {},
     "output_type": "execute_result"
    }
   ],
   "source": [
    "basepath = 'data/pitcher_logs/'\n",
    "end_str = '_2018.csv'\n",
    "paths = []\n",
    "for fname in os.listdir(basepath):\n",
    "    path = os.path.join(basepath, fname)\n",
    "    if not os.path.isdir(path) and path.endswith(end_str):\n",
    "        paths.append(path)\n",
    "        \n",
    "paths"
   ]
  },
  {
   "cell_type": "code",
   "execution_count": 25,
   "metadata": {},
   "outputs": [],
   "source": [
    "#yr = 2016\n",
    "#yr = 2017\n",
    "yr = 2018\n",
    "for path in paths:\n",
    "    df = pd.read_csv(path, usecols=['Date', 'Tm', 'Opp', 'Rslt', 'Inngs', 'ERA', 'Pit', 'Entered', 'Exited'])\n",
    "    df_result = get_pitcher_dates(df, df_team_ids, df_game_ids, yr)\n",
    "    \n",
    "    path = path.split(sep='/')\n",
    "    path = path[2].split(sep='_')\n",
    "    out_file = \"data/id_files/\" + path[0] + '_' + path[1] + '_game_ids_' + path[2]\n",
    "    df_result.to_csv(out_file, index=False)"
   ]
  },
  {
   "cell_type": "code",
   "execution_count": null,
   "metadata": {},
   "outputs": [],
   "source": []
  },
  {
   "cell_type": "code",
   "execution_count": null,
   "metadata": {},
   "outputs": [],
   "source": []
  },
  {
   "cell_type": "code",
   "execution_count": null,
   "metadata": {},
   "outputs": [],
   "source": []
  },
  {
   "cell_type": "code",
   "execution_count": null,
   "metadata": {},
   "outputs": [],
   "source": []
  },
  {
   "cell_type": "code",
   "execution_count": null,
   "metadata": {},
   "outputs": [],
   "source": []
  },
  {
   "cell_type": "code",
   "execution_count": null,
   "metadata": {},
   "outputs": [],
   "source": []
  }
 ],
 "metadata": {
  "kernelspec": {
   "display_name": "Python 3",
   "language": "python",
   "name": "python3"
  },
  "language_info": {
   "codemirror_mode": {
    "name": "ipython",
    "version": 3
   },
   "file_extension": ".py",
   "mimetype": "text/x-python",
   "name": "python",
   "nbconvert_exporter": "python",
   "pygments_lexer": "ipython3",
   "version": "3.6.7"
  }
 },
 "nbformat": 4,
 "nbformat_minor": 2
}
