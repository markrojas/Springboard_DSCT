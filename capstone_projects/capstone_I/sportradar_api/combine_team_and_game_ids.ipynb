{
 "cells": [
  {
   "cell_type": "code",
   "execution_count": null,
   "metadata": {},
   "outputs": [],
   "source": [
    "import os\n",
    "import numpy as np\n",
    "import pandas as pd"
   ]
  },
  {
   "cell_type": "markdown",
   "metadata": {},
   "source": [
    "# Combine Team ID's with Game ID's for Master List\n",
    "\n",
    "- Open Team ID's File\n",
    "- Open Game ID's File\n",
    "- Create Master List (DataFrame) of Game ID's per Team"
   ]
  },
  {
   "cell_type": "markdown",
   "metadata": {},
   "source": [
    "### Open Team ID's File to be used for both 2016 and 2016 Game ID's"
   ]
  },
  {
   "cell_type": "code",
   "execution_count": null,
   "metadata": {},
   "outputs": [],
   "source": [
    "# path to team_ids.csv file\n",
    "team_ids_path = 'data/id_files/team_ids.csv'\n",
    "\n",
    "# open team_ids.csv file, select 'id', 'name', 'abbr' columns, set 'id' as index\n",
    "df_team_ids = pd.read_csv(team_ids_path, usecols=['id','name', 'abbr'], index_col='id')"
   ]
  },
  {
   "cell_type": "code",
   "execution_count": null,
   "metadata": {},
   "outputs": [],
   "source": [
    "# confirm there are 30 MLB teams and 2 All-Star teams (AL, NL) \n",
    "df_team_ids.info()"
   ]
  },
  {
   "cell_type": "markdown",
   "metadata": {},
   "source": [
    "### Open Game ID's Files"
   ]
  },
  {
   "cell_type": "code",
   "execution_count": null,
   "metadata": {},
   "outputs": [],
   "source": [
    "# path to game_ids.csv files for 2016 and 2017\n",
    "game_ids_2016_path = 'data/id_files/game_ids_2016.csv'\n",
    "game_ids_2017_path = 'data/id_files/game_ids_2017.csv'\n",
    "\n",
    "# open game_ids.csv file to combine with team IDs\n",
    "df_game_ids_2016 = pd.read_csv(game_ids_2016_path, index_col='id')\n",
    "df_game_ids_2017 = pd.read_csv(game_ids_2017_path, index_col='id')"
   ]
  },
  {
   "cell_type": "code",
   "execution_count": null,
   "metadata": {},
   "outputs": [],
   "source": [
    "# confirm there are 2,430 game id's\n",
    "# (162 games * 15 team pairs) + 1 all-star game = 2,431\n",
    "# 26 games have been rescheduled for various reasons\n",
    "df_game_ids_2016.info()"
   ]
  },
  {
   "cell_type": "code",
   "execution_count": null,
   "metadata": {},
   "outputs": [],
   "source": [
    "# confirm there are 2,430 game id's\n",
    "# (162 games * 15 team pairs) + 1 all-star game = 2,431\n",
    "# 39 games have been rescheduled for various reasons\n",
    "df_game_ids_2017.info()"
   ]
  },
  {
   "cell_type": "markdown",
   "metadata": {},
   "source": [
    "### Function to associate Game ID's to Team ID's"
   ]
  },
  {
   "cell_type": "code",
   "execution_count": null,
   "metadata": {},
   "outputs": [],
   "source": [
    "# check_id function to return datafram of combined team and game id's\n",
    "def check_id(team_frame, game_frame):\n",
    "    \"\"\"\n",
    "    Create new DataFrame with combined Team and Game ID's.\n",
    "\n",
    "    Keyword arguments:\n",
    "    team_frame -- pd.DataFrame containing unique Team ID's\n",
    "    game_frame -- pd.DataFrame containing unique Game ID's\n",
    "    \"\"\"\n",
    "    # list to store selected values\n",
    "    temp_list = []\n",
    "    # list of column names for new dataframe\n",
    "    columns = ['team_id', 'team_name', 'team_abbr', 'game_id', \n",
    "               'at_away', 'at_home', 'scheduled', 'rescheduled']\n",
    "    \n",
    "    for t_idx, t_row in team_frame.iterrows(): # iterate through each row of team id's\n",
    "        for g_idx, g_row in game_frame.iterrows(): # iterate through each row of game id's\n",
    "            if t_idx == g_row['home_team']: # check if team id == home_team id in game_id row\n",
    "                temp_list.append([t_idx, t_row['name'], t_row['abbr'], g_idx, 0, 1, g_row['scheduled'], \n",
    "                                g_row['rescheduled']])\n",
    "            elif t_idx == g_row['away_team']: # check if team id == away_team id in game_id row\n",
    "                temp_list.append([t_idx, t_row['name'], t_row['abbr'], g_idx, 1, 0, g_row['scheduled'], \n",
    "                                g_row['rescheduled']])\n",
    "    # create and return new DataFrame with combined team and game id's\n",
    "    new_frame = pd.DataFrame(temp_list, columns=columns) \n",
    "    return new_frame \n",
    "\n",
    "# test check_id function        \n",
    "#result = check_id(df_team_ids, df_game_ids)"
   ]
  },
  {
   "cell_type": "code",
   "execution_count": null,
   "metadata": {
    "scrolled": false
   },
   "outputs": [],
   "source": [
    "df_combined_ids_2016 = check_id(df_team_ids, df_game_ids_2016)\n",
    "df_combined_ids_2017 = check_id(df_team_ids, df_game_ids_2017)"
   ]
  },
  {
   "cell_type": "markdown",
   "metadata": {},
   "source": [
    "## Save Combined Team and Game ID's to File"
   ]
  },
  {
   "cell_type": "code",
   "execution_count": null,
   "metadata": {},
   "outputs": [],
   "source": [
    "df_combined_ids_2016.to_csv('data/id_files/combined_ids_2016.csv', index=False)\n",
    "df_combined_ids_2017.to_csv('data/id_files/combined_ids_2017.csv', index=False)"
   ]
  },
  {
   "cell_type": "code",
   "execution_count": null,
   "metadata": {},
   "outputs": [],
   "source": [
    "# path to team_ids.csv file\n",
    "path_2016 = 'data/id_files/combined_ids_2016.csv'\n",
    "path_2017 = 'data/id_files/combined_ids_2017.csv'\n",
    "\n",
    "# open game_ids.csv file to combine with team IDs\n",
    "combined_ids_2016 = pd.read_csv(path_2016)\n",
    "combined_ids_2017 = pd.read_csv(path_2017)"
   ]
  },
  {
   "cell_type": "code",
   "execution_count": null,
   "metadata": {},
   "outputs": [],
   "source": [
    "combined_ids_2016.info()"
   ]
  },
  {
   "cell_type": "code",
   "execution_count": null,
   "metadata": {},
   "outputs": [],
   "source": [
    "combined_ids_2017.info()"
   ]
  },
  {
   "cell_type": "code",
   "execution_count": null,
   "metadata": {},
   "outputs": [],
   "source": []
  },
  {
   "cell_type": "code",
   "execution_count": null,
   "metadata": {},
   "outputs": [],
   "source": []
  },
  {
   "cell_type": "code",
   "execution_count": null,
   "metadata": {},
   "outputs": [],
   "source": []
  },
  {
   "cell_type": "code",
   "execution_count": null,
   "metadata": {},
   "outputs": [],
   "source": []
  }
 ],
 "metadata": {
  "kernelspec": {
   "display_name": "Python 3",
   "language": "python",
   "name": "python3"
  },
  "language_info": {
   "codemirror_mode": {
    "name": "ipython",
    "version": 3
   },
   "file_extension": ".py",
   "mimetype": "text/x-python",
   "name": "python",
   "nbconvert_exporter": "python",
   "pygments_lexer": "ipython3",
   "version": "3.6.6"
  }
 },
 "nbformat": 4,
 "nbformat_minor": 2
}
