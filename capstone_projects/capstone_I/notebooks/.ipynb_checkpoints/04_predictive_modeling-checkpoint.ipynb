version https://git-lfs.github.com/spec/v1
oid sha256:f17caf44cf3c2d8c3ed3c947f77ec0b27ba0af138458ffa815a6376dad99ac03
size 80103
